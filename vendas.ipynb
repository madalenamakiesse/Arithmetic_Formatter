{
  "nbformat": 4,
  "nbformat_minor": 0,
  "metadata": {
    "colab": {
      "provenance": [],
      "collapsed_sections": [
        "p_Q5o_fW2JCw",
        "HasC4hiHEg46",
        "gdmr9vu3I6B6",
        "JTrc6VZIH7NP",
        "pCE46JQLQUJg",
        "t3qNJRM-RXXo"
      ],
      "authorship_tag": "ABX9TyPMTnlmTWGNoLOoEPUizKVS",
      "include_colab_link": true
    },
    "kernelspec": {
      "name": "python3",
      "display_name": "Python 3"
    },
    "language_info": {
      "name": "python"
    }
  },
  "cells": [
    {
      "cell_type": "markdown",
      "metadata": {
        "id": "view-in-github",
        "colab_type": "text"
      },
      "source": [
        "<a href=\"https://colab.research.google.com/github/madalenamakiesse/Scientific-Computing-with-Python-Projects/blob/main/vendas.ipynb\" target=\"_parent\"><img src=\"https://colab.research.google.com/assets/colab-badge.svg\" alt=\"Open In Colab\"/></a>"
      ]
    },
    {
      "cell_type": "markdown",
      "source": [
        "# **Definição do Problema**\n",
        "Este projecto aplica conceitos de Ciência de Dados para prever o preço de venda (PrVenda) de produtos com  base em características presentes no dataset para auxiliar na tomada de decisões sobre estratégias de precificação.\n",
        "\n",
        "## **Objectivo**\n",
        "* Treinar um modelo de regressão para prever o preço de venda dos produtos.\n",
        "\n",
        "## **Variáveis em Estudo**\n",
        "\n",
        "* **Variável Dependente (Target):**\n",
        "  * PrVenda (preço de venda do produto).\n",
        "\n",
        "* **Variáveis Independentes (Features):**\n",
        "  * Data: Data da transação (pode capturar tendências ao longo do tempo).\n",
        "  * Ano: Ano da transação (para análises de tendências anuais).\n",
        "  * Mês: Mês da transação (para análises mensais).\n",
        "  * CodCli: Código do cliente (identificação do cliente).\n",
        "  * Cliente: Nome do cliente (informações sobre o cliente).\n",
        "  * CodCom: Código do comercial (informações sobre quem vendeu o produto).\n",
        "  * Comercial: Nome do comercial responsável pela venda.\n",
        "  * IDProduto: Identificação única do produto.\n",
        "  * Produto: Nome do produto.\n",
        "  * Tipo: Tipo do produto (Formação, Hardware, Serviço, Software).\n",
        "  * Subtipo: Subcategoria do produto (SmartPhone, Tablet, Office, PC e outros).\n",
        "  * Qt: Quantidade vendida.\n",
        "  * PrCusto: Preço de custo do produto (importante para determinar a margem de lucro).\n",
        "  * Região: Região onde a venda foi realizada (pode haver variações de preço dependendo da região).\n",
        "  * Meio de Pagamento: Método de pagamento utilizado (ex: Cheque, Débito, Dinheiro, Cartão de Crédito, MBWAY)."
      ],
      "metadata": {
        "id": "mE-dVhgjVjtK"
      }
    },
    {
      "cell_type": "markdown",
      "source": [
        "# Importação das Bibliotecas"
      ],
      "metadata": {
        "id": "YBL6uxdI4_w2"
      }
    },
    {
      "cell_type": "code",
      "source": [
        "import pandas as pd\n",
        "from sklearn.preprocessing import LabelEncoder, StandardScaler\n",
        "import matplotlib.pyplot as plt\n",
        "import seaborn as sns\n",
        "from sklearn.model_selection import train_test_split\n",
        "from sklearn.linear_model import LinearRegression\n",
        "from sklearn.tree import DecisionTreeRegressor\n",
        "from sklearn.ensemble import RandomForestRegressor\n",
        "from sklearn.feature_selection import SelectKBest, f_regression\n",
        "from sklearn.model_selection import cross_val_score\n",
        "from sklearn.metrics import mean_squared_error\n",
        "import numpy as np"
      ],
      "metadata": {
        "id": "WN0GMH904RIt"
      },
      "execution_count": 143,
      "outputs": []
    },
    {
      "cell_type": "markdown",
      "source": [
        "# Compreensão dos Dados\n",
        "Iniciou-se com o carregamento dos dados.\n",
        "Para ter uma compreensão da estrutura do dataset, utilizou-se as funções head, info, e describe\n"
      ],
      "metadata": {
        "id": "p_Q5o_fW2JCw"
      }
    },
    {
      "cell_type": "code",
      "execution_count": 144,
      "metadata": {
        "id": "gRmtueBa8FYm"
      },
      "outputs": [],
      "source": [
        "# Carregamento dos dados\n",
        "vendas_df = pd.read_excel('./Vendas.training.xlsx')"
      ]
    },
    {
      "cell_type": "code",
      "source": [
        "# Obter o número de linhas e  colunas\n",
        "vendas_df.shape"
      ],
      "metadata": {
        "colab": {
          "base_uri": "https://localhost:8080/"
        },
        "id": "ZkEkrOlWJ2jv",
        "outputId": "a25a6c57-3588-4265-c4e9-e2fbe45b8690"
      },
      "execution_count": 145,
      "outputs": [
        {
          "output_type": "execute_result",
          "data": {
            "text/plain": [
              "(1543, 16)"
            ]
          },
          "metadata": {},
          "execution_count": 145
        }
      ]
    },
    {
      "cell_type": "code",
      "source": [
        "vendas_df.keys()"
      ],
      "metadata": {
        "colab": {
          "base_uri": "https://localhost:8080/"
        },
        "id": "AIfIb3dn6RSj",
        "outputId": "dea9edbd-5cd6-4cba-b5b7-1bceb192c027"
      },
      "execution_count": 146,
      "outputs": [
        {
          "output_type": "execute_result",
          "data": {
            "text/plain": [
              "Index(['Data', 'Ano', 'Mês', 'CodCli', 'Cliente', 'CodCom', 'Comercial',\n",
              "       'IDProduto', 'Produto', 'Tipo', 'Subtipo', 'Qt', 'PrCusto', 'PrVenda',\n",
              "       'Região', 'Meio de Pagamento'],\n",
              "      dtype='object')"
            ]
          },
          "metadata": {},
          "execution_count": 146
        }
      ]
    },
    {
      "cell_type": "code",
      "source": [
        "# Obter as primeiras 3 linhas\n",
        "vendas_df.head(3)"
      ],
      "metadata": {
        "colab": {
          "base_uri": "https://localhost:8080/",
          "height": 369
        },
        "id": "aot80Pju4pqq",
        "outputId": "cf66a560-ae98-442d-a5da-120f1b49e919"
      },
      "execution_count": 147,
      "outputs": [
        {
          "output_type": "execute_result",
          "data": {
            "text/plain": [
              "        Data   Ano  Mês  CodCli  \\\n",
              "0 2012-01-01  2012  jan     109   \n",
              "1 2012-01-01  2012  jan      26   \n",
              "2 2012-01-02  2012  jan     116   \n",
              "\n",
              "                                             Cliente  CodCom Comercial  \\\n",
              "0                                        FAREMI, LDA       1     Silva   \n",
              "1  SOPORCEL - SOCIEDADE PORTUGUESA DE CELULOSE, S.A.       4    Fuller   \n",
              "2  INOXPAL - INOXIDÁVEIS PARA A INDÚSTRIA ALIMENT...       4    Fuller   \n",
              "\n",
              "   IDProduto                                            Produto      Tipo  \\\n",
              "0          7  Samsung Galaxy Alpha 4G - 32GB, 4.7\" HD Super ...  Hardware   \n",
              "1         33  Xperia Tablet Z2 16GB Wi-Fi Preto com Dock - F...  Hardware   \n",
              "2         67  Word 2013 32/64 Portuguese PkLic Online Downlo...  Software   \n",
              "\n",
              "      Subtipo  Qt     PrCusto     PrVenda  Região Meio de Pagamento  \n",
              "0  SmartPhone   8  260.807740  511.387726   Norte          Dinheiro  \n",
              "1      Tablet   9  278.619602  335.686268  Centro          Dinheiro  \n",
              "2      Office   8   40.400000   53.157895  Centro             MBWAY  "
            ],
            "text/html": [
              "\n",
              "  <div id=\"df-6f70b9d9-adcb-4a06-a17e-7b6fe1fd0283\" class=\"colab-df-container\">\n",
              "    <div>\n",
              "<style scoped>\n",
              "    .dataframe tbody tr th:only-of-type {\n",
              "        vertical-align: middle;\n",
              "    }\n",
              "\n",
              "    .dataframe tbody tr th {\n",
              "        vertical-align: top;\n",
              "    }\n",
              "\n",
              "    .dataframe thead th {\n",
              "        text-align: right;\n",
              "    }\n",
              "</style>\n",
              "<table border=\"1\" class=\"dataframe\">\n",
              "  <thead>\n",
              "    <tr style=\"text-align: right;\">\n",
              "      <th></th>\n",
              "      <th>Data</th>\n",
              "      <th>Ano</th>\n",
              "      <th>Mês</th>\n",
              "      <th>CodCli</th>\n",
              "      <th>Cliente</th>\n",
              "      <th>CodCom</th>\n",
              "      <th>Comercial</th>\n",
              "      <th>IDProduto</th>\n",
              "      <th>Produto</th>\n",
              "      <th>Tipo</th>\n",
              "      <th>Subtipo</th>\n",
              "      <th>Qt</th>\n",
              "      <th>PrCusto</th>\n",
              "      <th>PrVenda</th>\n",
              "      <th>Região</th>\n",
              "      <th>Meio de Pagamento</th>\n",
              "    </tr>\n",
              "  </thead>\n",
              "  <tbody>\n",
              "    <tr>\n",
              "      <th>0</th>\n",
              "      <td>2012-01-01</td>\n",
              "      <td>2012</td>\n",
              "      <td>jan</td>\n",
              "      <td>109</td>\n",
              "      <td>FAREMI, LDA</td>\n",
              "      <td>1</td>\n",
              "      <td>Silva</td>\n",
              "      <td>7</td>\n",
              "      <td>Samsung Galaxy Alpha 4G - 32GB, 4.7\" HD Super ...</td>\n",
              "      <td>Hardware</td>\n",
              "      <td>SmartPhone</td>\n",
              "      <td>8</td>\n",
              "      <td>260.807740</td>\n",
              "      <td>511.387726</td>\n",
              "      <td>Norte</td>\n",
              "      <td>Dinheiro</td>\n",
              "    </tr>\n",
              "    <tr>\n",
              "      <th>1</th>\n",
              "      <td>2012-01-01</td>\n",
              "      <td>2012</td>\n",
              "      <td>jan</td>\n",
              "      <td>26</td>\n",
              "      <td>SOPORCEL - SOCIEDADE PORTUGUESA DE CELULOSE, S.A.</td>\n",
              "      <td>4</td>\n",
              "      <td>Fuller</td>\n",
              "      <td>33</td>\n",
              "      <td>Xperia Tablet Z2 16GB Wi-Fi Preto com Dock - F...</td>\n",
              "      <td>Hardware</td>\n",
              "      <td>Tablet</td>\n",
              "      <td>9</td>\n",
              "      <td>278.619602</td>\n",
              "      <td>335.686268</td>\n",
              "      <td>Centro</td>\n",
              "      <td>Dinheiro</td>\n",
              "    </tr>\n",
              "    <tr>\n",
              "      <th>2</th>\n",
              "      <td>2012-01-02</td>\n",
              "      <td>2012</td>\n",
              "      <td>jan</td>\n",
              "      <td>116</td>\n",
              "      <td>INOXPAL - INOXIDÁVEIS PARA A INDÚSTRIA ALIMENT...</td>\n",
              "      <td>4</td>\n",
              "      <td>Fuller</td>\n",
              "      <td>67</td>\n",
              "      <td>Word 2013 32/64 Portuguese PkLic Online Downlo...</td>\n",
              "      <td>Software</td>\n",
              "      <td>Office</td>\n",
              "      <td>8</td>\n",
              "      <td>40.400000</td>\n",
              "      <td>53.157895</td>\n",
              "      <td>Centro</td>\n",
              "      <td>MBWAY</td>\n",
              "    </tr>\n",
              "  </tbody>\n",
              "</table>\n",
              "</div>\n",
              "    <div class=\"colab-df-buttons\">\n",
              "\n",
              "  <div class=\"colab-df-container\">\n",
              "    <button class=\"colab-df-convert\" onclick=\"convertToInteractive('df-6f70b9d9-adcb-4a06-a17e-7b6fe1fd0283')\"\n",
              "            title=\"Convert this dataframe to an interactive table.\"\n",
              "            style=\"display:none;\">\n",
              "\n",
              "  <svg xmlns=\"http://www.w3.org/2000/svg\" height=\"24px\" viewBox=\"0 -960 960 960\">\n",
              "    <path d=\"M120-120v-720h720v720H120Zm60-500h600v-160H180v160Zm220 220h160v-160H400v160Zm0 220h160v-160H400v160ZM180-400h160v-160H180v160Zm440 0h160v-160H620v160ZM180-180h160v-160H180v160Zm440 0h160v-160H620v160Z\"/>\n",
              "  </svg>\n",
              "    </button>\n",
              "\n",
              "  <style>\n",
              "    .colab-df-container {\n",
              "      display:flex;\n",
              "      gap: 12px;\n",
              "    }\n",
              "\n",
              "    .colab-df-convert {\n",
              "      background-color: #E8F0FE;\n",
              "      border: none;\n",
              "      border-radius: 50%;\n",
              "      cursor: pointer;\n",
              "      display: none;\n",
              "      fill: #1967D2;\n",
              "      height: 32px;\n",
              "      padding: 0 0 0 0;\n",
              "      width: 32px;\n",
              "    }\n",
              "\n",
              "    .colab-df-convert:hover {\n",
              "      background-color: #E2EBFA;\n",
              "      box-shadow: 0px 1px 2px rgba(60, 64, 67, 0.3), 0px 1px 3px 1px rgba(60, 64, 67, 0.15);\n",
              "      fill: #174EA6;\n",
              "    }\n",
              "\n",
              "    .colab-df-buttons div {\n",
              "      margin-bottom: 4px;\n",
              "    }\n",
              "\n",
              "    [theme=dark] .colab-df-convert {\n",
              "      background-color: #3B4455;\n",
              "      fill: #D2E3FC;\n",
              "    }\n",
              "\n",
              "    [theme=dark] .colab-df-convert:hover {\n",
              "      background-color: #434B5C;\n",
              "      box-shadow: 0px 1px 3px 1px rgba(0, 0, 0, 0.15);\n",
              "      filter: drop-shadow(0px 1px 2px rgba(0, 0, 0, 0.3));\n",
              "      fill: #FFFFFF;\n",
              "    }\n",
              "  </style>\n",
              "\n",
              "    <script>\n",
              "      const buttonEl =\n",
              "        document.querySelector('#df-6f70b9d9-adcb-4a06-a17e-7b6fe1fd0283 button.colab-df-convert');\n",
              "      buttonEl.style.display =\n",
              "        google.colab.kernel.accessAllowed ? 'block' : 'none';\n",
              "\n",
              "      async function convertToInteractive(key) {\n",
              "        const element = document.querySelector('#df-6f70b9d9-adcb-4a06-a17e-7b6fe1fd0283');\n",
              "        const dataTable =\n",
              "          await google.colab.kernel.invokeFunction('convertToInteractive',\n",
              "                                                    [key], {});\n",
              "        if (!dataTable) return;\n",
              "\n",
              "        const docLinkHtml = 'Like what you see? Visit the ' +\n",
              "          '<a target=\"_blank\" href=https://colab.research.google.com/notebooks/data_table.ipynb>data table notebook</a>'\n",
              "          + ' to learn more about interactive tables.';\n",
              "        element.innerHTML = '';\n",
              "        dataTable['output_type'] = 'display_data';\n",
              "        await google.colab.output.renderOutput(dataTable, element);\n",
              "        const docLink = document.createElement('div');\n",
              "        docLink.innerHTML = docLinkHtml;\n",
              "        element.appendChild(docLink);\n",
              "      }\n",
              "    </script>\n",
              "  </div>\n",
              "\n",
              "\n",
              "<div id=\"df-89de4302-ff5a-4a4c-b84e-79e5249d9ead\">\n",
              "  <button class=\"colab-df-quickchart\" onclick=\"quickchart('df-89de4302-ff5a-4a4c-b84e-79e5249d9ead')\"\n",
              "            title=\"Suggest charts\"\n",
              "            style=\"display:none;\">\n",
              "\n",
              "<svg xmlns=\"http://www.w3.org/2000/svg\" height=\"24px\"viewBox=\"0 0 24 24\"\n",
              "     width=\"24px\">\n",
              "    <g>\n",
              "        <path d=\"M19 3H5c-1.1 0-2 .9-2 2v14c0 1.1.9 2 2 2h14c1.1 0 2-.9 2-2V5c0-1.1-.9-2-2-2zM9 17H7v-7h2v7zm4 0h-2V7h2v10zm4 0h-2v-4h2v4z\"/>\n",
              "    </g>\n",
              "</svg>\n",
              "  </button>\n",
              "\n",
              "<style>\n",
              "  .colab-df-quickchart {\n",
              "      --bg-color: #E8F0FE;\n",
              "      --fill-color: #1967D2;\n",
              "      --hover-bg-color: #E2EBFA;\n",
              "      --hover-fill-color: #174EA6;\n",
              "      --disabled-fill-color: #AAA;\n",
              "      --disabled-bg-color: #DDD;\n",
              "  }\n",
              "\n",
              "  [theme=dark] .colab-df-quickchart {\n",
              "      --bg-color: #3B4455;\n",
              "      --fill-color: #D2E3FC;\n",
              "      --hover-bg-color: #434B5C;\n",
              "      --hover-fill-color: #FFFFFF;\n",
              "      --disabled-bg-color: #3B4455;\n",
              "      --disabled-fill-color: #666;\n",
              "  }\n",
              "\n",
              "  .colab-df-quickchart {\n",
              "    background-color: var(--bg-color);\n",
              "    border: none;\n",
              "    border-radius: 50%;\n",
              "    cursor: pointer;\n",
              "    display: none;\n",
              "    fill: var(--fill-color);\n",
              "    height: 32px;\n",
              "    padding: 0;\n",
              "    width: 32px;\n",
              "  }\n",
              "\n",
              "  .colab-df-quickchart:hover {\n",
              "    background-color: var(--hover-bg-color);\n",
              "    box-shadow: 0 1px 2px rgba(60, 64, 67, 0.3), 0 1px 3px 1px rgba(60, 64, 67, 0.15);\n",
              "    fill: var(--button-hover-fill-color);\n",
              "  }\n",
              "\n",
              "  .colab-df-quickchart-complete:disabled,\n",
              "  .colab-df-quickchart-complete:disabled:hover {\n",
              "    background-color: var(--disabled-bg-color);\n",
              "    fill: var(--disabled-fill-color);\n",
              "    box-shadow: none;\n",
              "  }\n",
              "\n",
              "  .colab-df-spinner {\n",
              "    border: 2px solid var(--fill-color);\n",
              "    border-color: transparent;\n",
              "    border-bottom-color: var(--fill-color);\n",
              "    animation:\n",
              "      spin 1s steps(1) infinite;\n",
              "  }\n",
              "\n",
              "  @keyframes spin {\n",
              "    0% {\n",
              "      border-color: transparent;\n",
              "      border-bottom-color: var(--fill-color);\n",
              "      border-left-color: var(--fill-color);\n",
              "    }\n",
              "    20% {\n",
              "      border-color: transparent;\n",
              "      border-left-color: var(--fill-color);\n",
              "      border-top-color: var(--fill-color);\n",
              "    }\n",
              "    30% {\n",
              "      border-color: transparent;\n",
              "      border-left-color: var(--fill-color);\n",
              "      border-top-color: var(--fill-color);\n",
              "      border-right-color: var(--fill-color);\n",
              "    }\n",
              "    40% {\n",
              "      border-color: transparent;\n",
              "      border-right-color: var(--fill-color);\n",
              "      border-top-color: var(--fill-color);\n",
              "    }\n",
              "    60% {\n",
              "      border-color: transparent;\n",
              "      border-right-color: var(--fill-color);\n",
              "    }\n",
              "    80% {\n",
              "      border-color: transparent;\n",
              "      border-right-color: var(--fill-color);\n",
              "      border-bottom-color: var(--fill-color);\n",
              "    }\n",
              "    90% {\n",
              "      border-color: transparent;\n",
              "      border-bottom-color: var(--fill-color);\n",
              "    }\n",
              "  }\n",
              "</style>\n",
              "\n",
              "  <script>\n",
              "    async function quickchart(key) {\n",
              "      const quickchartButtonEl =\n",
              "        document.querySelector('#' + key + ' button');\n",
              "      quickchartButtonEl.disabled = true;  // To prevent multiple clicks.\n",
              "      quickchartButtonEl.classList.add('colab-df-spinner');\n",
              "      try {\n",
              "        const charts = await google.colab.kernel.invokeFunction(\n",
              "            'suggestCharts', [key], {});\n",
              "      } catch (error) {\n",
              "        console.error('Error during call to suggestCharts:', error);\n",
              "      }\n",
              "      quickchartButtonEl.classList.remove('colab-df-spinner');\n",
              "      quickchartButtonEl.classList.add('colab-df-quickchart-complete');\n",
              "    }\n",
              "    (() => {\n",
              "      let quickchartButtonEl =\n",
              "        document.querySelector('#df-89de4302-ff5a-4a4c-b84e-79e5249d9ead button');\n",
              "      quickchartButtonEl.style.display =\n",
              "        google.colab.kernel.accessAllowed ? 'block' : 'none';\n",
              "    })();\n",
              "  </script>\n",
              "</div>\n",
              "\n",
              "    </div>\n",
              "  </div>\n"
            ],
            "application/vnd.google.colaboratory.intrinsic+json": {
              "type": "dataframe",
              "variable_name": "vendas_df",
              "summary": "{\n  \"name\": \"vendas_df\",\n  \"rows\": 1543,\n  \"fields\": [\n    {\n      \"column\": \"Data\",\n      \"properties\": {\n        \"dtype\": \"date\",\n        \"min\": \"2012-01-01 00:00:00\",\n        \"max\": \"2014-12-31 00:00:00\",\n        \"num_unique_values\": 839,\n        \"samples\": [\n          \"2012-10-30 00:00:00\",\n          \"2014-12-15 00:00:00\",\n          \"2012-04-29 00:00:00\"\n        ],\n        \"semantic_type\": \"\",\n        \"description\": \"\"\n      }\n    },\n    {\n      \"column\": \"Ano\",\n      \"properties\": {\n        \"dtype\": \"number\",\n        \"std\": 0,\n        \"min\": 2012,\n        \"max\": 2014,\n        \"num_unique_values\": 3,\n        \"samples\": [\n          2012,\n          2013,\n          2014\n        ],\n        \"semantic_type\": \"\",\n        \"description\": \"\"\n      }\n    },\n    {\n      \"column\": \"M\\u00eas\",\n      \"properties\": {\n        \"dtype\": \"category\",\n        \"num_unique_values\": 12,\n        \"samples\": [\n          \"nov\",\n          \"out\",\n          \"jan\"\n        ],\n        \"semantic_type\": \"\",\n        \"description\": \"\"\n      }\n    },\n    {\n      \"column\": \"CodCli\",\n      \"properties\": {\n        \"dtype\": \"number\",\n        \"std\": 41,\n        \"min\": 2,\n        \"max\": 117,\n        \"num_unique_values\": 45,\n        \"samples\": [\n          97,\n          30,\n          63\n        ],\n        \"semantic_type\": \"\",\n        \"description\": \"\"\n      }\n    },\n    {\n      \"column\": \"Cliente\",\n      \"properties\": {\n        \"dtype\": \"category\",\n        \"num_unique_values\": 45,\n        \"samples\": [\n          \"JOTEX, LDA.\",\n          \"ENERMEC - GABINETE T\\u00c9CNICO DE MONTAGENS INDUSTRIAIS, LDA.\",\n          \"TERMODIN\\u00c2MICO, LDA.\"\n        ],\n        \"semantic_type\": \"\",\n        \"description\": \"\"\n      }\n    },\n    {\n      \"column\": \"CodCom\",\n      \"properties\": {\n        \"dtype\": \"number\",\n        \"std\": 3,\n        \"min\": 1,\n        \"max\": 12,\n        \"num_unique_values\": 12,\n        \"samples\": [\n          10,\n          2,\n          1\n        ],\n        \"semantic_type\": \"\",\n        \"description\": \"\"\n      }\n    },\n    {\n      \"column\": \"Comercial\",\n      \"properties\": {\n        \"dtype\": \"category\",\n        \"num_unique_values\": 12,\n        \"samples\": [\n          \"Buchanan\",\n          \"Mendes\",\n          \"Silva\"\n        ],\n        \"semantic_type\": \"\",\n        \"description\": \"\"\n      }\n    },\n    {\n      \"column\": \"IDProduto\",\n      \"properties\": {\n        \"dtype\": \"number\",\n        \"std\": 26,\n        \"min\": 1,\n        \"max\": 91,\n        \"num_unique_values\": 91,\n        \"samples\": [\n          14,\n          12,\n          1\n        ],\n        \"semantic_type\": \"\",\n        \"description\": \"\"\n      }\n    },\n    {\n      \"column\": \"Produto\",\n      \"properties\": {\n        \"dtype\": \"category\",\n        \"num_unique_values\": 90,\n        \"samples\": [\n          \"iPad Air 2 Wi-Fi 16GB Silver\",\n          \"iPad mini 3 Wi-Fi 64GB Space Gray\",\n          \"BQ Aquaris E5 HD 16GB - 1GB (RAM) - Branco - MediaTek Quad Core Cortex A7, Ecr\\u00e3 IPS HD multit\\u00e1ctil 5\\\", C\\u00e2maras Frontal e Traseira, Wi-Fi 802.11 b/g/n, Bluetooth 4.0, 3G HSPA+ (900 / 2100), Ranhura dual micro-SIM e MicroSD, Android 4.4\"\n        ],\n        \"semantic_type\": \"\",\n        \"description\": \"\"\n      }\n    },\n    {\n      \"column\": \"Tipo\",\n      \"properties\": {\n        \"dtype\": \"category\",\n        \"num_unique_values\": 4,\n        \"samples\": [\n          \"Software\",\n          \"Servi\\u00e7os\",\n          \"Hardware\"\n        ],\n        \"semantic_type\": \"\",\n        \"description\": \"\"\n      }\n    },\n    {\n      \"column\": \"Subtipo\",\n      \"properties\": {\n        \"dtype\": \"category\",\n        \"num_unique_values\": 13,\n        \"samples\": [\n          \"Manuten\\u00e7\\u00e3o\",\n          \"Configura\\u00e7\\u00e3o\",\n          \"SmartPhone\"\n        ],\n        \"semantic_type\": \"\",\n        \"description\": \"\"\n      }\n    },\n    {\n      \"column\": \"Qt\",\n      \"properties\": {\n        \"dtype\": \"number\",\n        \"std\": 2,\n        \"min\": 1,\n        \"max\": 10,\n        \"num_unique_values\": 10,\n        \"samples\": [\n          1,\n          9,\n          10\n        ],\n        \"semantic_type\": \"\",\n        \"description\": \"\"\n      }\n    },\n    {\n      \"column\": \"PrCusto\",\n      \"properties\": {\n        \"dtype\": \"number\",\n        \"std\": 338.9367648630857,\n        \"min\": 10.8631578947368,\n        \"max\": 2460.25389473685,\n        \"num_unique_values\": 90,\n        \"samples\": [\n          301.533995876289,\n          245.732288659794,\n          93.44\n        ],\n        \"semantic_type\": \"\",\n        \"description\": \"\"\n      }\n    },\n    {\n      \"column\": \"PrVenda\",\n      \"properties\": {\n        \"dtype\": \"number\",\n        \"std\": 441.94609120806814,\n        \"min\": 18.1052631578947,\n        \"max\": 2928.87368421053,\n        \"num_unique_values\": 71,\n        \"samples\": [\n          290.526315789474,\n          511.387726199843,\n          124.138840807763\n        ],\n        \"semantic_type\": \"\",\n        \"description\": \"\"\n      }\n    },\n    {\n      \"column\": \"Regi\\u00e3o\",\n      \"properties\": {\n        \"dtype\": \"category\",\n        \"num_unique_values\": 3,\n        \"samples\": [\n          \"Norte\",\n          \"Centro\",\n          \"Sul\"\n        ],\n        \"semantic_type\": \"\",\n        \"description\": \"\"\n      }\n    },\n    {\n      \"column\": \"Meio de Pagamento\",\n      \"properties\": {\n        \"dtype\": \"category\",\n        \"num_unique_values\": 5,\n        \"samples\": [\n          \"MBWAY\",\n          \"Cheque\",\n          \"D\\u00e9bito\"\n        ],\n        \"semantic_type\": \"\",\n        \"description\": \"\"\n      }\n    }\n  ]\n}"
            }
          },
          "metadata": {},
          "execution_count": 147
        }
      ]
    },
    {
      "cell_type": "code",
      "source": [
        "# Obter a informação do dataset\n",
        "vendas_df.info()"
      ],
      "metadata": {
        "colab": {
          "base_uri": "https://localhost:8080/"
        },
        "id": "B-KqAIVy7u8_",
        "outputId": "c384060c-153e-48f2-dd16-e4219075bf9d"
      },
      "execution_count": 148,
      "outputs": [
        {
          "output_type": "stream",
          "name": "stdout",
          "text": [
            "<class 'pandas.core.frame.DataFrame'>\n",
            "RangeIndex: 1543 entries, 0 to 1542\n",
            "Data columns (total 16 columns):\n",
            " #   Column             Non-Null Count  Dtype         \n",
            "---  ------             --------------  -----         \n",
            " 0   Data               1543 non-null   datetime64[ns]\n",
            " 1   Ano                1543 non-null   int64         \n",
            " 2   Mês                1543 non-null   object        \n",
            " 3   CodCli             1543 non-null   int64         \n",
            " 4   Cliente            1543 non-null   object        \n",
            " 5   CodCom             1543 non-null   int64         \n",
            " 6   Comercial          1543 non-null   object        \n",
            " 7   IDProduto          1543 non-null   int64         \n",
            " 8   Produto            1543 non-null   object        \n",
            " 9   Tipo               1543 non-null   object        \n",
            " 10  Subtipo            1543 non-null   object        \n",
            " 11  Qt                 1543 non-null   int64         \n",
            " 12  PrCusto            1543 non-null   float64       \n",
            " 13  PrVenda            1543 non-null   float64       \n",
            " 14  Região             1543 non-null   object        \n",
            " 15  Meio de Pagamento  1543 non-null   object        \n",
            "dtypes: datetime64[ns](1), float64(2), int64(5), object(8)\n",
            "memory usage: 193.0+ KB\n"
          ]
        }
      ]
    },
    {
      "cell_type": "code",
      "source": [
        "# Fazer uma análise descritiva dos dados numéricos\n",
        "vendas_df.describe()"
      ],
      "metadata": {
        "colab": {
          "base_uri": "https://localhost:8080/",
          "height": 300
        },
        "id": "1Ome2mSq76Du",
        "outputId": "5e0f07e2-69ce-4a67-d425-9602e02ac4b4"
      },
      "execution_count": 149,
      "outputs": [
        {
          "output_type": "execute_result",
          "data": {
            "text/plain": [
              "                                Data          Ano       CodCli       CodCom  \\\n",
              "count                           1543  1543.000000  1543.000000  1543.000000   \n",
              "mean   2013-07-28 06:24:29.863901696  2013.062865    59.261828     5.771873   \n",
              "min              2012-01-01 00:00:00  2012.000000     2.000000     1.000000   \n",
              "25%              2012-11-16 12:00:00  2012.000000    20.000000     3.000000   \n",
              "50%              2013-08-05 00:00:00  2013.000000    53.000000     5.000000   \n",
              "75%              2014-04-21 12:00:00  2014.000000   101.000000     9.000000   \n",
              "max              2014-12-31 00:00:00  2014.000000   117.000000    12.000000   \n",
              "std                              NaN     0.808075    41.696639     3.497609   \n",
              "\n",
              "         IDProduto           Qt      PrCusto      PrVenda  \n",
              "count  1543.000000  1543.000000  1543.000000  1543.000000  \n",
              "mean     45.747246     5.470512   255.188046   367.546986  \n",
              "min       1.000000     1.000000    10.863158    18.105263  \n",
              "25%      23.000000     3.000000    77.237684   109.473684  \n",
              "50%      46.000000     5.000000   184.600000   289.000000  \n",
              "75%      68.000000     8.000000   301.533996   446.695412  \n",
              "max      91.000000    10.000000  2460.253895  2928.873684  \n",
              "std      26.030679     2.890838   338.936765   441.946091  "
            ],
            "text/html": [
              "\n",
              "  <div id=\"df-e1058d7e-fb1e-4a3f-8488-bdf7761b16c3\" class=\"colab-df-container\">\n",
              "    <div>\n",
              "<style scoped>\n",
              "    .dataframe tbody tr th:only-of-type {\n",
              "        vertical-align: middle;\n",
              "    }\n",
              "\n",
              "    .dataframe tbody tr th {\n",
              "        vertical-align: top;\n",
              "    }\n",
              "\n",
              "    .dataframe thead th {\n",
              "        text-align: right;\n",
              "    }\n",
              "</style>\n",
              "<table border=\"1\" class=\"dataframe\">\n",
              "  <thead>\n",
              "    <tr style=\"text-align: right;\">\n",
              "      <th></th>\n",
              "      <th>Data</th>\n",
              "      <th>Ano</th>\n",
              "      <th>CodCli</th>\n",
              "      <th>CodCom</th>\n",
              "      <th>IDProduto</th>\n",
              "      <th>Qt</th>\n",
              "      <th>PrCusto</th>\n",
              "      <th>PrVenda</th>\n",
              "    </tr>\n",
              "  </thead>\n",
              "  <tbody>\n",
              "    <tr>\n",
              "      <th>count</th>\n",
              "      <td>1543</td>\n",
              "      <td>1543.000000</td>\n",
              "      <td>1543.000000</td>\n",
              "      <td>1543.000000</td>\n",
              "      <td>1543.000000</td>\n",
              "      <td>1543.000000</td>\n",
              "      <td>1543.000000</td>\n",
              "      <td>1543.000000</td>\n",
              "    </tr>\n",
              "    <tr>\n",
              "      <th>mean</th>\n",
              "      <td>2013-07-28 06:24:29.863901696</td>\n",
              "      <td>2013.062865</td>\n",
              "      <td>59.261828</td>\n",
              "      <td>5.771873</td>\n",
              "      <td>45.747246</td>\n",
              "      <td>5.470512</td>\n",
              "      <td>255.188046</td>\n",
              "      <td>367.546986</td>\n",
              "    </tr>\n",
              "    <tr>\n",
              "      <th>min</th>\n",
              "      <td>2012-01-01 00:00:00</td>\n",
              "      <td>2012.000000</td>\n",
              "      <td>2.000000</td>\n",
              "      <td>1.000000</td>\n",
              "      <td>1.000000</td>\n",
              "      <td>1.000000</td>\n",
              "      <td>10.863158</td>\n",
              "      <td>18.105263</td>\n",
              "    </tr>\n",
              "    <tr>\n",
              "      <th>25%</th>\n",
              "      <td>2012-11-16 12:00:00</td>\n",
              "      <td>2012.000000</td>\n",
              "      <td>20.000000</td>\n",
              "      <td>3.000000</td>\n",
              "      <td>23.000000</td>\n",
              "      <td>3.000000</td>\n",
              "      <td>77.237684</td>\n",
              "      <td>109.473684</td>\n",
              "    </tr>\n",
              "    <tr>\n",
              "      <th>50%</th>\n",
              "      <td>2013-08-05 00:00:00</td>\n",
              "      <td>2013.000000</td>\n",
              "      <td>53.000000</td>\n",
              "      <td>5.000000</td>\n",
              "      <td>46.000000</td>\n",
              "      <td>5.000000</td>\n",
              "      <td>184.600000</td>\n",
              "      <td>289.000000</td>\n",
              "    </tr>\n",
              "    <tr>\n",
              "      <th>75%</th>\n",
              "      <td>2014-04-21 12:00:00</td>\n",
              "      <td>2014.000000</td>\n",
              "      <td>101.000000</td>\n",
              "      <td>9.000000</td>\n",
              "      <td>68.000000</td>\n",
              "      <td>8.000000</td>\n",
              "      <td>301.533996</td>\n",
              "      <td>446.695412</td>\n",
              "    </tr>\n",
              "    <tr>\n",
              "      <th>max</th>\n",
              "      <td>2014-12-31 00:00:00</td>\n",
              "      <td>2014.000000</td>\n",
              "      <td>117.000000</td>\n",
              "      <td>12.000000</td>\n",
              "      <td>91.000000</td>\n",
              "      <td>10.000000</td>\n",
              "      <td>2460.253895</td>\n",
              "      <td>2928.873684</td>\n",
              "    </tr>\n",
              "    <tr>\n",
              "      <th>std</th>\n",
              "      <td>NaN</td>\n",
              "      <td>0.808075</td>\n",
              "      <td>41.696639</td>\n",
              "      <td>3.497609</td>\n",
              "      <td>26.030679</td>\n",
              "      <td>2.890838</td>\n",
              "      <td>338.936765</td>\n",
              "      <td>441.946091</td>\n",
              "    </tr>\n",
              "  </tbody>\n",
              "</table>\n",
              "</div>\n",
              "    <div class=\"colab-df-buttons\">\n",
              "\n",
              "  <div class=\"colab-df-container\">\n",
              "    <button class=\"colab-df-convert\" onclick=\"convertToInteractive('df-e1058d7e-fb1e-4a3f-8488-bdf7761b16c3')\"\n",
              "            title=\"Convert this dataframe to an interactive table.\"\n",
              "            style=\"display:none;\">\n",
              "\n",
              "  <svg xmlns=\"http://www.w3.org/2000/svg\" height=\"24px\" viewBox=\"0 -960 960 960\">\n",
              "    <path d=\"M120-120v-720h720v720H120Zm60-500h600v-160H180v160Zm220 220h160v-160H400v160Zm0 220h160v-160H400v160ZM180-400h160v-160H180v160Zm440 0h160v-160H620v160ZM180-180h160v-160H180v160Zm440 0h160v-160H620v160Z\"/>\n",
              "  </svg>\n",
              "    </button>\n",
              "\n",
              "  <style>\n",
              "    .colab-df-container {\n",
              "      display:flex;\n",
              "      gap: 12px;\n",
              "    }\n",
              "\n",
              "    .colab-df-convert {\n",
              "      background-color: #E8F0FE;\n",
              "      border: none;\n",
              "      border-radius: 50%;\n",
              "      cursor: pointer;\n",
              "      display: none;\n",
              "      fill: #1967D2;\n",
              "      height: 32px;\n",
              "      padding: 0 0 0 0;\n",
              "      width: 32px;\n",
              "    }\n",
              "\n",
              "    .colab-df-convert:hover {\n",
              "      background-color: #E2EBFA;\n",
              "      box-shadow: 0px 1px 2px rgba(60, 64, 67, 0.3), 0px 1px 3px 1px rgba(60, 64, 67, 0.15);\n",
              "      fill: #174EA6;\n",
              "    }\n",
              "\n",
              "    .colab-df-buttons div {\n",
              "      margin-bottom: 4px;\n",
              "    }\n",
              "\n",
              "    [theme=dark] .colab-df-convert {\n",
              "      background-color: #3B4455;\n",
              "      fill: #D2E3FC;\n",
              "    }\n",
              "\n",
              "    [theme=dark] .colab-df-convert:hover {\n",
              "      background-color: #434B5C;\n",
              "      box-shadow: 0px 1px 3px 1px rgba(0, 0, 0, 0.15);\n",
              "      filter: drop-shadow(0px 1px 2px rgba(0, 0, 0, 0.3));\n",
              "      fill: #FFFFFF;\n",
              "    }\n",
              "  </style>\n",
              "\n",
              "    <script>\n",
              "      const buttonEl =\n",
              "        document.querySelector('#df-e1058d7e-fb1e-4a3f-8488-bdf7761b16c3 button.colab-df-convert');\n",
              "      buttonEl.style.display =\n",
              "        google.colab.kernel.accessAllowed ? 'block' : 'none';\n",
              "\n",
              "      async function convertToInteractive(key) {\n",
              "        const element = document.querySelector('#df-e1058d7e-fb1e-4a3f-8488-bdf7761b16c3');\n",
              "        const dataTable =\n",
              "          await google.colab.kernel.invokeFunction('convertToInteractive',\n",
              "                                                    [key], {});\n",
              "        if (!dataTable) return;\n",
              "\n",
              "        const docLinkHtml = 'Like what you see? Visit the ' +\n",
              "          '<a target=\"_blank\" href=https://colab.research.google.com/notebooks/data_table.ipynb>data table notebook</a>'\n",
              "          + ' to learn more about interactive tables.';\n",
              "        element.innerHTML = '';\n",
              "        dataTable['output_type'] = 'display_data';\n",
              "        await google.colab.output.renderOutput(dataTable, element);\n",
              "        const docLink = document.createElement('div');\n",
              "        docLink.innerHTML = docLinkHtml;\n",
              "        element.appendChild(docLink);\n",
              "      }\n",
              "    </script>\n",
              "  </div>\n",
              "\n",
              "\n",
              "<div id=\"df-cb52b6fe-1c85-4495-affd-9407e7a8990c\">\n",
              "  <button class=\"colab-df-quickchart\" onclick=\"quickchart('df-cb52b6fe-1c85-4495-affd-9407e7a8990c')\"\n",
              "            title=\"Suggest charts\"\n",
              "            style=\"display:none;\">\n",
              "\n",
              "<svg xmlns=\"http://www.w3.org/2000/svg\" height=\"24px\"viewBox=\"0 0 24 24\"\n",
              "     width=\"24px\">\n",
              "    <g>\n",
              "        <path d=\"M19 3H5c-1.1 0-2 .9-2 2v14c0 1.1.9 2 2 2h14c1.1 0 2-.9 2-2V5c0-1.1-.9-2-2-2zM9 17H7v-7h2v7zm4 0h-2V7h2v10zm4 0h-2v-4h2v4z\"/>\n",
              "    </g>\n",
              "</svg>\n",
              "  </button>\n",
              "\n",
              "<style>\n",
              "  .colab-df-quickchart {\n",
              "      --bg-color: #E8F0FE;\n",
              "      --fill-color: #1967D2;\n",
              "      --hover-bg-color: #E2EBFA;\n",
              "      --hover-fill-color: #174EA6;\n",
              "      --disabled-fill-color: #AAA;\n",
              "      --disabled-bg-color: #DDD;\n",
              "  }\n",
              "\n",
              "  [theme=dark] .colab-df-quickchart {\n",
              "      --bg-color: #3B4455;\n",
              "      --fill-color: #D2E3FC;\n",
              "      --hover-bg-color: #434B5C;\n",
              "      --hover-fill-color: #FFFFFF;\n",
              "      --disabled-bg-color: #3B4455;\n",
              "      --disabled-fill-color: #666;\n",
              "  }\n",
              "\n",
              "  .colab-df-quickchart {\n",
              "    background-color: var(--bg-color);\n",
              "    border: none;\n",
              "    border-radius: 50%;\n",
              "    cursor: pointer;\n",
              "    display: none;\n",
              "    fill: var(--fill-color);\n",
              "    height: 32px;\n",
              "    padding: 0;\n",
              "    width: 32px;\n",
              "  }\n",
              "\n",
              "  .colab-df-quickchart:hover {\n",
              "    background-color: var(--hover-bg-color);\n",
              "    box-shadow: 0 1px 2px rgba(60, 64, 67, 0.3), 0 1px 3px 1px rgba(60, 64, 67, 0.15);\n",
              "    fill: var(--button-hover-fill-color);\n",
              "  }\n",
              "\n",
              "  .colab-df-quickchart-complete:disabled,\n",
              "  .colab-df-quickchart-complete:disabled:hover {\n",
              "    background-color: var(--disabled-bg-color);\n",
              "    fill: var(--disabled-fill-color);\n",
              "    box-shadow: none;\n",
              "  }\n",
              "\n",
              "  .colab-df-spinner {\n",
              "    border: 2px solid var(--fill-color);\n",
              "    border-color: transparent;\n",
              "    border-bottom-color: var(--fill-color);\n",
              "    animation:\n",
              "      spin 1s steps(1) infinite;\n",
              "  }\n",
              "\n",
              "  @keyframes spin {\n",
              "    0% {\n",
              "      border-color: transparent;\n",
              "      border-bottom-color: var(--fill-color);\n",
              "      border-left-color: var(--fill-color);\n",
              "    }\n",
              "    20% {\n",
              "      border-color: transparent;\n",
              "      border-left-color: var(--fill-color);\n",
              "      border-top-color: var(--fill-color);\n",
              "    }\n",
              "    30% {\n",
              "      border-color: transparent;\n",
              "      border-left-color: var(--fill-color);\n",
              "      border-top-color: var(--fill-color);\n",
              "      border-right-color: var(--fill-color);\n",
              "    }\n",
              "    40% {\n",
              "      border-color: transparent;\n",
              "      border-right-color: var(--fill-color);\n",
              "      border-top-color: var(--fill-color);\n",
              "    }\n",
              "    60% {\n",
              "      border-color: transparent;\n",
              "      border-right-color: var(--fill-color);\n",
              "    }\n",
              "    80% {\n",
              "      border-color: transparent;\n",
              "      border-right-color: var(--fill-color);\n",
              "      border-bottom-color: var(--fill-color);\n",
              "    }\n",
              "    90% {\n",
              "      border-color: transparent;\n",
              "      border-bottom-color: var(--fill-color);\n",
              "    }\n",
              "  }\n",
              "</style>\n",
              "\n",
              "  <script>\n",
              "    async function quickchart(key) {\n",
              "      const quickchartButtonEl =\n",
              "        document.querySelector('#' + key + ' button');\n",
              "      quickchartButtonEl.disabled = true;  // To prevent multiple clicks.\n",
              "      quickchartButtonEl.classList.add('colab-df-spinner');\n",
              "      try {\n",
              "        const charts = await google.colab.kernel.invokeFunction(\n",
              "            'suggestCharts', [key], {});\n",
              "      } catch (error) {\n",
              "        console.error('Error during call to suggestCharts:', error);\n",
              "      }\n",
              "      quickchartButtonEl.classList.remove('colab-df-spinner');\n",
              "      quickchartButtonEl.classList.add('colab-df-quickchart-complete');\n",
              "    }\n",
              "    (() => {\n",
              "      let quickchartButtonEl =\n",
              "        document.querySelector('#df-cb52b6fe-1c85-4495-affd-9407e7a8990c button');\n",
              "      quickchartButtonEl.style.display =\n",
              "        google.colab.kernel.accessAllowed ? 'block' : 'none';\n",
              "    })();\n",
              "  </script>\n",
              "</div>\n",
              "\n",
              "    </div>\n",
              "  </div>\n"
            ],
            "application/vnd.google.colaboratory.intrinsic+json": {
              "type": "dataframe",
              "summary": "{\n  \"name\": \"vendas_df\",\n  \"rows\": 8,\n  \"fields\": [\n    {\n      \"column\": \"Data\",\n      \"properties\": {\n        \"dtype\": \"date\",\n        \"min\": \"1970-01-01 00:00:00.000001543\",\n        \"max\": \"2014-12-31 00:00:00\",\n        \"num_unique_values\": 7,\n        \"samples\": [\n          \"1543\",\n          \"2013-07-28 06:24:29.863901696\",\n          \"2014-04-21 12:00:00\"\n        ],\n        \"semantic_type\": \"\",\n        \"description\": \"\"\n      }\n    },\n    {\n      \"column\": \"Ano\",\n      \"properties\": {\n        \"dtype\": \"number\",\n        \"std\": 707.0764521532645,\n        \"min\": 0.8080745793179468,\n        \"max\": 2014.0,\n        \"num_unique_values\": 6,\n        \"samples\": [\n          1543.0,\n          2013.0628645495788,\n          0.8080745793179468\n        ],\n        \"semantic_type\": \"\",\n        \"description\": \"\"\n      }\n    },\n    {\n      \"column\": \"CodCli\",\n      \"properties\": {\n        \"dtype\": \"number\",\n        \"std\": 527.0167469639222,\n        \"min\": 2.0,\n        \"max\": 1543.0,\n        \"num_unique_values\": 8,\n        \"samples\": [\n          59.26182760855476,\n          101.0,\n          1543.0\n        ],\n        \"semantic_type\": \"\",\n        \"description\": \"\"\n      }\n    },\n    {\n      \"column\": \"CodCom\",\n      \"properties\": {\n        \"dtype\": \"number\",\n        \"std\": 543.5606758911207,\n        \"min\": 1.0,\n        \"max\": 1543.0,\n        \"num_unique_values\": 8,\n        \"samples\": [\n          5.7718729747245625,\n          9.0,\n          1543.0\n        ],\n        \"semantic_type\": \"\",\n        \"description\": \"\"\n      }\n    },\n    {\n      \"column\": \"IDProduto\",\n      \"properties\": {\n        \"dtype\": \"number\",\n        \"std\": 531.0677623249758,\n        \"min\": 1.0,\n        \"max\": 1543.0,\n        \"num_unique_values\": 8,\n        \"samples\": [\n          45.74724562540506,\n          68.0,\n          1543.0\n        ],\n        \"semantic_type\": \"\",\n        \"description\": \"\"\n      }\n    },\n    {\n      \"column\": \"Qt\",\n      \"properties\": {\n        \"dtype\": \"number\",\n        \"std\": 543.7545683943277,\n        \"min\": 1.0,\n        \"max\": 1543.0,\n        \"num_unique_values\": 8,\n        \"samples\": [\n          5.47051198963059,\n          8.0,\n          1543.0\n        ],\n        \"semantic_type\": \"\",\n        \"description\": \"\"\n      }\n    },\n    {\n      \"column\": \"PrCusto\",\n      \"properties\": {\n        \"dtype\": \"number\",\n        \"std\": 878.438756625071,\n        \"min\": 10.8631578947368,\n        \"max\": 2460.25389473685,\n        \"num_unique_values\": 8,\n        \"samples\": [\n          255.18804624193965,\n          301.533995876289,\n          1543.0\n        ],\n        \"semantic_type\": \"\",\n        \"description\": \"\"\n      }\n    },\n    {\n      \"column\": \"PrVenda\",\n      \"properties\": {\n        \"dtype\": \"number\",\n        \"std\": 990.3354740981272,\n        \"min\": 18.1052631578947,\n        \"max\": 2928.87368421053,\n        \"num_unique_values\": 8,\n        \"samples\": [\n          367.5469858817512,\n          446.695412139201,\n          1543.0\n        ],\n        \"semantic_type\": \"\",\n        \"description\": \"\"\n      }\n    }\n  ]\n}"
            }
          },
          "metadata": {},
          "execution_count": 149
        }
      ]
    },
    {
      "cell_type": "markdown",
      "source": [
        "# Preparação dos Dados"
      ],
      "metadata": {
        "id": "TblevYbuDMfy"
      }
    },
    {
      "cell_type": "markdown",
      "source": [
        "### Tratamento de dados ausentes"
      ],
      "metadata": {
        "id": "HasC4hiHEg46"
      }
    },
    {
      "cell_type": "code",
      "source": [
        "# Verificação de valores ausentes\n",
        "ausentes = vendas_df.isnull().sum().sum()\n",
        "ausentes"
      ],
      "metadata": {
        "colab": {
          "base_uri": "https://localhost:8080/"
        },
        "id": "_WOfnSPd8xHq",
        "outputId": "9f7a3781-a908-46e4-b1c0-7fb26a1c2ce2"
      },
      "execution_count": 150,
      "outputs": [
        {
          "output_type": "execute_result",
          "data": {
            "text/plain": [
              "0"
            ]
          },
          "metadata": {},
          "execution_count": 150
        }
      ]
    },
    {
      "cell_type": "markdown",
      "source": [
        "### Tratamento de dados duplicados"
      ],
      "metadata": {
        "id": "gdmr9vu3I6B6"
      }
    },
    {
      "cell_type": "code",
      "source": [
        "# Verificação de valores duplicados\n",
        "duplicado = vendas_df.duplicated().sum().sum()\n",
        "duplicado"
      ],
      "metadata": {
        "colab": {
          "base_uri": "https://localhost:8080/"
        },
        "id": "uR8gta-nIiN3",
        "outputId": "66bd89ea-e006-4d0b-c068-f147ccb8eddd"
      },
      "execution_count": 151,
      "outputs": [
        {
          "output_type": "execute_result",
          "data": {
            "text/plain": [
              "0"
            ]
          },
          "metadata": {},
          "execution_count": 151
        }
      ]
    },
    {
      "cell_type": "markdown",
      "source": [
        "### Tratamento de inconsistência nos dados"
      ],
      "metadata": {
        "id": "ab2XmIOjElEr"
      }
    },
    {
      "cell_type": "code",
      "source": [
        "print(vendas_df['Mês'].unique())"
      ],
      "metadata": {
        "colab": {
          "base_uri": "https://localhost:8080/"
        },
        "id": "4EXXngPjELSL",
        "outputId": "833c5194-6bea-466f-a565-7bf6ce7146d9"
      },
      "execution_count": 152,
      "outputs": [
        {
          "output_type": "stream",
          "name": "stdout",
          "text": [
            "['jan' 'fev' 'mar' 'abr' 'mai' 'jun' 'jul' 'ago' 'set' 'out' 'nov' 'dez']\n"
          ]
        }
      ]
    },
    {
      "cell_type": "code",
      "source": [
        "print(vendas_df['Comercial'].unique())"
      ],
      "metadata": {
        "colab": {
          "base_uri": "https://localhost:8080/"
        },
        "id": "F80NwrslFIA9",
        "outputId": "92950074-194e-410e-a1b3-c3c65b689b3b"
      },
      "execution_count": 153,
      "outputs": [
        {
          "output_type": "stream",
          "name": "stdout",
          "text": [
            "['Silva' 'Fuller' 'Peacock' 'Leverling' 'Dodsworth' 'Davolio' 'Costa'\n",
            " 'King' 'Callahan' 'Mendes' 'Buchanan' 'Suyama']\n"
          ]
        }
      ]
    },
    {
      "cell_type": "code",
      "source": [
        "print(vendas_df['Tipo'].unique())"
      ],
      "metadata": {
        "colab": {
          "base_uri": "https://localhost:8080/"
        },
        "id": "g59X_EpMFQIs",
        "outputId": "b9aef6a2-2257-4f37-c5e7-578ec0dd8158"
      },
      "execution_count": 154,
      "outputs": [
        {
          "output_type": "stream",
          "name": "stdout",
          "text": [
            "['Hardware' 'Software' 'Formação' 'Serviços']\n"
          ]
        }
      ]
    },
    {
      "cell_type": "code",
      "source": [
        "print(vendas_df['Subtipo'].unique())"
      ],
      "metadata": {
        "colab": {
          "base_uri": "https://localhost:8080/"
        },
        "id": "eW79WU8BHPAw",
        "outputId": "3566cd23-b9ce-4942-90dd-54aa9a6cb1fc"
      },
      "execution_count": 155,
      "outputs": [
        {
          "output_type": "stream",
          "name": "stdout",
          "text": [
            "['SmartPhone' 'Tablet' 'Office' 'PC' 'Servidores' 'Presencial' 'Antivirus'\n",
            " 'eLearning' 'bLearning' 'Configuração' 'Sist. Op.' 'Manutenção'\n",
            " 'Instalação']\n"
          ]
        }
      ]
    },
    {
      "cell_type": "code",
      "source": [
        "print(vendas_df['Região'].unique())"
      ],
      "metadata": {
        "colab": {
          "base_uri": "https://localhost:8080/"
        },
        "id": "FxYw2PH4HRh-",
        "outputId": "001fae08-4af4-4412-8cb1-fb5668bba099"
      },
      "execution_count": 156,
      "outputs": [
        {
          "output_type": "stream",
          "name": "stdout",
          "text": [
            "['Norte' 'Centro' 'Sul']\n"
          ]
        }
      ]
    },
    {
      "cell_type": "code",
      "source": [
        "print(vendas_df['Meio de Pagamento'].unique())"
      ],
      "metadata": {
        "colab": {
          "base_uri": "https://localhost:8080/"
        },
        "id": "VU2e0dceHnwM",
        "outputId": "e20d8de5-623c-4167-b21e-3cadbaf59f8d"
      },
      "execution_count": 157,
      "outputs": [
        {
          "output_type": "stream",
          "name": "stdout",
          "text": [
            "['Dinheiro' 'MBWAY' 'Débito' 'Cartão de Crédito' 'Cheque']\n"
          ]
        }
      ]
    },
    {
      "cell_type": "markdown",
      "source": [
        "### Codificação de Variáveis Categóricas"
      ],
      "metadata": {
        "id": "JTrc6VZIH7NP"
      }
    },
    {
      "cell_type": "code",
      "source": [
        "copia = vendas_df.copy()"
      ],
      "metadata": {
        "id": "WssVIN9MHuR0"
      },
      "execution_count": 158,
      "outputs": []
    },
    {
      "cell_type": "code",
      "source": [
        "label = LabelEncoder()\n",
        "label.fit(copia['Data'].drop_duplicates())\n",
        "copia['Data'] = label.transform(copia['Data'])\n",
        "label.fit(copia['Mês'].drop_duplicates())\n",
        "copia['Mês'] = label.transform(copia['Mês'])\n",
        "label.fit(copia['Cliente'].drop_duplicates())\n",
        "copia['Cliente'] = label.transform(copia['Cliente'])\n",
        "label.fit(copia['Comercial'].drop_duplicates())\n",
        "copia['Comercial'] = label.transform(copia['Comercial'])\n",
        "label.fit(copia['Produto'].drop_duplicates())\n",
        "copia['Produto'] = label.transform(copia['Produto'])\n",
        "label.fit(copia['Tipo'].drop_duplicates())\n",
        "copia['Tipo'] = label.transform(copia['Tipo'])\n",
        "label.fit(copia['Subtipo'].drop_duplicates())\n",
        "copia['Subtipo'] = label.transform(copia['Subtipo'])\n",
        "label.fit(copia['Região'].drop_duplicates())\n",
        "copia['Região'] = label.transform(copia['Região'])\n",
        "label.fit(copia['Meio de Pagamento'].drop_duplicates())\n",
        "copia['Meio de Pagamento'] = label.transform(copia['Meio de Pagamento'])\n",
        "\n",
        "copia.dtypes"
      ],
      "metadata": {
        "colab": {
          "base_uri": "https://localhost:8080/",
          "height": 586
        },
        "id": "WqqitMMnMUDL",
        "outputId": "f3a3ec72-b910-4cfa-cbb5-ec76190d4967"
      },
      "execution_count": 159,
      "outputs": [
        {
          "output_type": "execute_result",
          "data": {
            "text/plain": [
              "Data                   int64\n",
              "Ano                    int64\n",
              "Mês                    int64\n",
              "CodCli                 int64\n",
              "Cliente                int64\n",
              "CodCom                 int64\n",
              "Comercial              int64\n",
              "IDProduto              int64\n",
              "Produto                int64\n",
              "Tipo                   int64\n",
              "Subtipo                int64\n",
              "Qt                     int64\n",
              "PrCusto              float64\n",
              "PrVenda              float64\n",
              "Região                 int64\n",
              "Meio de Pagamento      int64\n",
              "dtype: object"
            ],
            "text/html": [
              "<div>\n",
              "<style scoped>\n",
              "    .dataframe tbody tr th:only-of-type {\n",
              "        vertical-align: middle;\n",
              "    }\n",
              "\n",
              "    .dataframe tbody tr th {\n",
              "        vertical-align: top;\n",
              "    }\n",
              "\n",
              "    .dataframe thead th {\n",
              "        text-align: right;\n",
              "    }\n",
              "</style>\n",
              "<table border=\"1\" class=\"dataframe\">\n",
              "  <thead>\n",
              "    <tr style=\"text-align: right;\">\n",
              "      <th></th>\n",
              "      <th>0</th>\n",
              "    </tr>\n",
              "  </thead>\n",
              "  <tbody>\n",
              "    <tr>\n",
              "      <th>Data</th>\n",
              "      <td>int64</td>\n",
              "    </tr>\n",
              "    <tr>\n",
              "      <th>Ano</th>\n",
              "      <td>int64</td>\n",
              "    </tr>\n",
              "    <tr>\n",
              "      <th>Mês</th>\n",
              "      <td>int64</td>\n",
              "    </tr>\n",
              "    <tr>\n",
              "      <th>CodCli</th>\n",
              "      <td>int64</td>\n",
              "    </tr>\n",
              "    <tr>\n",
              "      <th>Cliente</th>\n",
              "      <td>int64</td>\n",
              "    </tr>\n",
              "    <tr>\n",
              "      <th>CodCom</th>\n",
              "      <td>int64</td>\n",
              "    </tr>\n",
              "    <tr>\n",
              "      <th>Comercial</th>\n",
              "      <td>int64</td>\n",
              "    </tr>\n",
              "    <tr>\n",
              "      <th>IDProduto</th>\n",
              "      <td>int64</td>\n",
              "    </tr>\n",
              "    <tr>\n",
              "      <th>Produto</th>\n",
              "      <td>int64</td>\n",
              "    </tr>\n",
              "    <tr>\n",
              "      <th>Tipo</th>\n",
              "      <td>int64</td>\n",
              "    </tr>\n",
              "    <tr>\n",
              "      <th>Subtipo</th>\n",
              "      <td>int64</td>\n",
              "    </tr>\n",
              "    <tr>\n",
              "      <th>Qt</th>\n",
              "      <td>int64</td>\n",
              "    </tr>\n",
              "    <tr>\n",
              "      <th>PrCusto</th>\n",
              "      <td>float64</td>\n",
              "    </tr>\n",
              "    <tr>\n",
              "      <th>PrVenda</th>\n",
              "      <td>float64</td>\n",
              "    </tr>\n",
              "    <tr>\n",
              "      <th>Região</th>\n",
              "      <td>int64</td>\n",
              "    </tr>\n",
              "    <tr>\n",
              "      <th>Meio de Pagamento</th>\n",
              "      <td>int64</td>\n",
              "    </tr>\n",
              "  </tbody>\n",
              "</table>\n",
              "</div><br><label><b>dtype:</b> object</label>"
            ]
          },
          "metadata": {},
          "execution_count": 159
        }
      ]
    },
    {
      "cell_type": "markdown",
      "source": [
        "### Padronização"
      ],
      "metadata": {
        "id": "pCE46JQLQUJg"
      }
    },
    {
      "cell_type": "code",
      "source": [
        "scaler = StandardScaler()\n",
        "copia[['Ano']] = scaler.fit_transform(copia[['Ano']])\n",
        "copia[['Qt']] = scaler.fit_transform(copia[['Qt']])\n",
        "copia[['PrCusto']] = scaler.fit_transform(copia[['PrCusto']])\n",
        "copia[['CodCli']] = scaler.fit_transform(copia[['CodCli']])\n",
        "copia[['CodCom']] = scaler.fit_transform(copia[['CodCom']])\n",
        "copia[['IDProduto']] = scaler.fit_transform(copia[['IDProduto']])\n",
        "\n",
        "copia.head()"
      ],
      "metadata": {
        "colab": {
          "base_uri": "https://localhost:8080/",
          "height": 206
        },
        "id": "Ip-DNJ19O6EC",
        "outputId": "3539d297-5d5b-4ef1-d211-b1ba4606366e"
      },
      "execution_count": 160,
      "outputs": [
        {
          "output_type": "execute_result",
          "data": {
            "text/plain": [
              "   Data       Ano  Mês    CodCli  Cliente    CodCom  Comercial  IDProduto  \\\n",
              "0     0 -1.315731    4  1.193245       13 -1.364767         10  -1.489005   \n",
              "1     0 -1.315731    4 -0.797969       37 -0.506760          5  -0.489860   \n",
              "2     1 -1.315731    4  1.361178       19 -0.506760          5   0.816715   \n",
              "3     2 -1.315731    4  1.025311       35  0.637249          9  -0.451431   \n",
              "4     2 -1.315731    4  0.713434        1  0.923252          7  -0.758860   \n",
              "\n",
              "   Produto  Tipo  Subtipo        Qt   PrCusto     PrVenda  Região  \\\n",
              "0       55     1        9  0.875285  0.016586  511.387726       1   \n",
              "1       79     1       10  1.221318  0.069155  335.686268       0   \n",
              "2       76     3        4  0.875285 -0.633917   53.157895       0   \n",
              "3       78     1       10 -0.508845 -0.037298  332.260898       1   \n",
              "4       20     1       10 -0.162812  0.387815  522.419334       1   \n",
              "\n",
              "   Meio de Pagamento  \n",
              "0                  2  \n",
              "1                  2  \n",
              "2                  4  \n",
              "3                  4  \n",
              "4                  4  "
            ],
            "text/html": [
              "\n",
              "  <div id=\"df-7682bb6e-08f7-41c9-ac3f-655162893caa\" class=\"colab-df-container\">\n",
              "    <div>\n",
              "<style scoped>\n",
              "    .dataframe tbody tr th:only-of-type {\n",
              "        vertical-align: middle;\n",
              "    }\n",
              "\n",
              "    .dataframe tbody tr th {\n",
              "        vertical-align: top;\n",
              "    }\n",
              "\n",
              "    .dataframe thead th {\n",
              "        text-align: right;\n",
              "    }\n",
              "</style>\n",
              "<table border=\"1\" class=\"dataframe\">\n",
              "  <thead>\n",
              "    <tr style=\"text-align: right;\">\n",
              "      <th></th>\n",
              "      <th>Data</th>\n",
              "      <th>Ano</th>\n",
              "      <th>Mês</th>\n",
              "      <th>CodCli</th>\n",
              "      <th>Cliente</th>\n",
              "      <th>CodCom</th>\n",
              "      <th>Comercial</th>\n",
              "      <th>IDProduto</th>\n",
              "      <th>Produto</th>\n",
              "      <th>Tipo</th>\n",
              "      <th>Subtipo</th>\n",
              "      <th>Qt</th>\n",
              "      <th>PrCusto</th>\n",
              "      <th>PrVenda</th>\n",
              "      <th>Região</th>\n",
              "      <th>Meio de Pagamento</th>\n",
              "    </tr>\n",
              "  </thead>\n",
              "  <tbody>\n",
              "    <tr>\n",
              "      <th>0</th>\n",
              "      <td>0</td>\n",
              "      <td>-1.315731</td>\n",
              "      <td>4</td>\n",
              "      <td>1.193245</td>\n",
              "      <td>13</td>\n",
              "      <td>-1.364767</td>\n",
              "      <td>10</td>\n",
              "      <td>-1.489005</td>\n",
              "      <td>55</td>\n",
              "      <td>1</td>\n",
              "      <td>9</td>\n",
              "      <td>0.875285</td>\n",
              "      <td>0.016586</td>\n",
              "      <td>511.387726</td>\n",
              "      <td>1</td>\n",
              "      <td>2</td>\n",
              "    </tr>\n",
              "    <tr>\n",
              "      <th>1</th>\n",
              "      <td>0</td>\n",
              "      <td>-1.315731</td>\n",
              "      <td>4</td>\n",
              "      <td>-0.797969</td>\n",
              "      <td>37</td>\n",
              "      <td>-0.506760</td>\n",
              "      <td>5</td>\n",
              "      <td>-0.489860</td>\n",
              "      <td>79</td>\n",
              "      <td>1</td>\n",
              "      <td>10</td>\n",
              "      <td>1.221318</td>\n",
              "      <td>0.069155</td>\n",
              "      <td>335.686268</td>\n",
              "      <td>0</td>\n",
              "      <td>2</td>\n",
              "    </tr>\n",
              "    <tr>\n",
              "      <th>2</th>\n",
              "      <td>1</td>\n",
              "      <td>-1.315731</td>\n",
              "      <td>4</td>\n",
              "      <td>1.361178</td>\n",
              "      <td>19</td>\n",
              "      <td>-0.506760</td>\n",
              "      <td>5</td>\n",
              "      <td>0.816715</td>\n",
              "      <td>76</td>\n",
              "      <td>3</td>\n",
              "      <td>4</td>\n",
              "      <td>0.875285</td>\n",
              "      <td>-0.633917</td>\n",
              "      <td>53.157895</td>\n",
              "      <td>0</td>\n",
              "      <td>4</td>\n",
              "    </tr>\n",
              "    <tr>\n",
              "      <th>3</th>\n",
              "      <td>2</td>\n",
              "      <td>-1.315731</td>\n",
              "      <td>4</td>\n",
              "      <td>1.025311</td>\n",
              "      <td>35</td>\n",
              "      <td>0.637249</td>\n",
              "      <td>9</td>\n",
              "      <td>-0.451431</td>\n",
              "      <td>78</td>\n",
              "      <td>1</td>\n",
              "      <td>10</td>\n",
              "      <td>-0.508845</td>\n",
              "      <td>-0.037298</td>\n",
              "      <td>332.260898</td>\n",
              "      <td>1</td>\n",
              "      <td>4</td>\n",
              "    </tr>\n",
              "    <tr>\n",
              "      <th>4</th>\n",
              "      <td>2</td>\n",
              "      <td>-1.315731</td>\n",
              "      <td>4</td>\n",
              "      <td>0.713434</td>\n",
              "      <td>1</td>\n",
              "      <td>0.923252</td>\n",
              "      <td>7</td>\n",
              "      <td>-0.758860</td>\n",
              "      <td>20</td>\n",
              "      <td>1</td>\n",
              "      <td>10</td>\n",
              "      <td>-0.162812</td>\n",
              "      <td>0.387815</td>\n",
              "      <td>522.419334</td>\n",
              "      <td>1</td>\n",
              "      <td>4</td>\n",
              "    </tr>\n",
              "  </tbody>\n",
              "</table>\n",
              "</div>\n",
              "    <div class=\"colab-df-buttons\">\n",
              "\n",
              "  <div class=\"colab-df-container\">\n",
              "    <button class=\"colab-df-convert\" onclick=\"convertToInteractive('df-7682bb6e-08f7-41c9-ac3f-655162893caa')\"\n",
              "            title=\"Convert this dataframe to an interactive table.\"\n",
              "            style=\"display:none;\">\n",
              "\n",
              "  <svg xmlns=\"http://www.w3.org/2000/svg\" height=\"24px\" viewBox=\"0 -960 960 960\">\n",
              "    <path d=\"M120-120v-720h720v720H120Zm60-500h600v-160H180v160Zm220 220h160v-160H400v160Zm0 220h160v-160H400v160ZM180-400h160v-160H180v160Zm440 0h160v-160H620v160ZM180-180h160v-160H180v160Zm440 0h160v-160H620v160Z\"/>\n",
              "  </svg>\n",
              "    </button>\n",
              "\n",
              "  <style>\n",
              "    .colab-df-container {\n",
              "      display:flex;\n",
              "      gap: 12px;\n",
              "    }\n",
              "\n",
              "    .colab-df-convert {\n",
              "      background-color: #E8F0FE;\n",
              "      border: none;\n",
              "      border-radius: 50%;\n",
              "      cursor: pointer;\n",
              "      display: none;\n",
              "      fill: #1967D2;\n",
              "      height: 32px;\n",
              "      padding: 0 0 0 0;\n",
              "      width: 32px;\n",
              "    }\n",
              "\n",
              "    .colab-df-convert:hover {\n",
              "      background-color: #E2EBFA;\n",
              "      box-shadow: 0px 1px 2px rgba(60, 64, 67, 0.3), 0px 1px 3px 1px rgba(60, 64, 67, 0.15);\n",
              "      fill: #174EA6;\n",
              "    }\n",
              "\n",
              "    .colab-df-buttons div {\n",
              "      margin-bottom: 4px;\n",
              "    }\n",
              "\n",
              "    [theme=dark] .colab-df-convert {\n",
              "      background-color: #3B4455;\n",
              "      fill: #D2E3FC;\n",
              "    }\n",
              "\n",
              "    [theme=dark] .colab-df-convert:hover {\n",
              "      background-color: #434B5C;\n",
              "      box-shadow: 0px 1px 3px 1px rgba(0, 0, 0, 0.15);\n",
              "      filter: drop-shadow(0px 1px 2px rgba(0, 0, 0, 0.3));\n",
              "      fill: #FFFFFF;\n",
              "    }\n",
              "  </style>\n",
              "\n",
              "    <script>\n",
              "      const buttonEl =\n",
              "        document.querySelector('#df-7682bb6e-08f7-41c9-ac3f-655162893caa button.colab-df-convert');\n",
              "      buttonEl.style.display =\n",
              "        google.colab.kernel.accessAllowed ? 'block' : 'none';\n",
              "\n",
              "      async function convertToInteractive(key) {\n",
              "        const element = document.querySelector('#df-7682bb6e-08f7-41c9-ac3f-655162893caa');\n",
              "        const dataTable =\n",
              "          await google.colab.kernel.invokeFunction('convertToInteractive',\n",
              "                                                    [key], {});\n",
              "        if (!dataTable) return;\n",
              "\n",
              "        const docLinkHtml = 'Like what you see? Visit the ' +\n",
              "          '<a target=\"_blank\" href=https://colab.research.google.com/notebooks/data_table.ipynb>data table notebook</a>'\n",
              "          + ' to learn more about interactive tables.';\n",
              "        element.innerHTML = '';\n",
              "        dataTable['output_type'] = 'display_data';\n",
              "        await google.colab.output.renderOutput(dataTable, element);\n",
              "        const docLink = document.createElement('div');\n",
              "        docLink.innerHTML = docLinkHtml;\n",
              "        element.appendChild(docLink);\n",
              "      }\n",
              "    </script>\n",
              "  </div>\n",
              "\n",
              "\n",
              "<div id=\"df-b1b1821f-9891-4432-8117-12b70cbc8cb7\">\n",
              "  <button class=\"colab-df-quickchart\" onclick=\"quickchart('df-b1b1821f-9891-4432-8117-12b70cbc8cb7')\"\n",
              "            title=\"Suggest charts\"\n",
              "            style=\"display:none;\">\n",
              "\n",
              "<svg xmlns=\"http://www.w3.org/2000/svg\" height=\"24px\"viewBox=\"0 0 24 24\"\n",
              "     width=\"24px\">\n",
              "    <g>\n",
              "        <path d=\"M19 3H5c-1.1 0-2 .9-2 2v14c0 1.1.9 2 2 2h14c1.1 0 2-.9 2-2V5c0-1.1-.9-2-2-2zM9 17H7v-7h2v7zm4 0h-2V7h2v10zm4 0h-2v-4h2v4z\"/>\n",
              "    </g>\n",
              "</svg>\n",
              "  </button>\n",
              "\n",
              "<style>\n",
              "  .colab-df-quickchart {\n",
              "      --bg-color: #E8F0FE;\n",
              "      --fill-color: #1967D2;\n",
              "      --hover-bg-color: #E2EBFA;\n",
              "      --hover-fill-color: #174EA6;\n",
              "      --disabled-fill-color: #AAA;\n",
              "      --disabled-bg-color: #DDD;\n",
              "  }\n",
              "\n",
              "  [theme=dark] .colab-df-quickchart {\n",
              "      --bg-color: #3B4455;\n",
              "      --fill-color: #D2E3FC;\n",
              "      --hover-bg-color: #434B5C;\n",
              "      --hover-fill-color: #FFFFFF;\n",
              "      --disabled-bg-color: #3B4455;\n",
              "      --disabled-fill-color: #666;\n",
              "  }\n",
              "\n",
              "  .colab-df-quickchart {\n",
              "    background-color: var(--bg-color);\n",
              "    border: none;\n",
              "    border-radius: 50%;\n",
              "    cursor: pointer;\n",
              "    display: none;\n",
              "    fill: var(--fill-color);\n",
              "    height: 32px;\n",
              "    padding: 0;\n",
              "    width: 32px;\n",
              "  }\n",
              "\n",
              "  .colab-df-quickchart:hover {\n",
              "    background-color: var(--hover-bg-color);\n",
              "    box-shadow: 0 1px 2px rgba(60, 64, 67, 0.3), 0 1px 3px 1px rgba(60, 64, 67, 0.15);\n",
              "    fill: var(--button-hover-fill-color);\n",
              "  }\n",
              "\n",
              "  .colab-df-quickchart-complete:disabled,\n",
              "  .colab-df-quickchart-complete:disabled:hover {\n",
              "    background-color: var(--disabled-bg-color);\n",
              "    fill: var(--disabled-fill-color);\n",
              "    box-shadow: none;\n",
              "  }\n",
              "\n",
              "  .colab-df-spinner {\n",
              "    border: 2px solid var(--fill-color);\n",
              "    border-color: transparent;\n",
              "    border-bottom-color: var(--fill-color);\n",
              "    animation:\n",
              "      spin 1s steps(1) infinite;\n",
              "  }\n",
              "\n",
              "  @keyframes spin {\n",
              "    0% {\n",
              "      border-color: transparent;\n",
              "      border-bottom-color: var(--fill-color);\n",
              "      border-left-color: var(--fill-color);\n",
              "    }\n",
              "    20% {\n",
              "      border-color: transparent;\n",
              "      border-left-color: var(--fill-color);\n",
              "      border-top-color: var(--fill-color);\n",
              "    }\n",
              "    30% {\n",
              "      border-color: transparent;\n",
              "      border-left-color: var(--fill-color);\n",
              "      border-top-color: var(--fill-color);\n",
              "      border-right-color: var(--fill-color);\n",
              "    }\n",
              "    40% {\n",
              "      border-color: transparent;\n",
              "      border-right-color: var(--fill-color);\n",
              "      border-top-color: var(--fill-color);\n",
              "    }\n",
              "    60% {\n",
              "      border-color: transparent;\n",
              "      border-right-color: var(--fill-color);\n",
              "    }\n",
              "    80% {\n",
              "      border-color: transparent;\n",
              "      border-right-color: var(--fill-color);\n",
              "      border-bottom-color: var(--fill-color);\n",
              "    }\n",
              "    90% {\n",
              "      border-color: transparent;\n",
              "      border-bottom-color: var(--fill-color);\n",
              "    }\n",
              "  }\n",
              "</style>\n",
              "\n",
              "  <script>\n",
              "    async function quickchart(key) {\n",
              "      const quickchartButtonEl =\n",
              "        document.querySelector('#' + key + ' button');\n",
              "      quickchartButtonEl.disabled = true;  // To prevent multiple clicks.\n",
              "      quickchartButtonEl.classList.add('colab-df-spinner');\n",
              "      try {\n",
              "        const charts = await google.colab.kernel.invokeFunction(\n",
              "            'suggestCharts', [key], {});\n",
              "      } catch (error) {\n",
              "        console.error('Error during call to suggestCharts:', error);\n",
              "      }\n",
              "      quickchartButtonEl.classList.remove('colab-df-spinner');\n",
              "      quickchartButtonEl.classList.add('colab-df-quickchart-complete');\n",
              "    }\n",
              "    (() => {\n",
              "      let quickchartButtonEl =\n",
              "        document.querySelector('#df-b1b1821f-9891-4432-8117-12b70cbc8cb7 button');\n",
              "      quickchartButtonEl.style.display =\n",
              "        google.colab.kernel.accessAllowed ? 'block' : 'none';\n",
              "    })();\n",
              "  </script>\n",
              "</div>\n",
              "\n",
              "    </div>\n",
              "  </div>\n"
            ],
            "application/vnd.google.colaboratory.intrinsic+json": {
              "type": "dataframe",
              "variable_name": "copia",
              "summary": "{\n  \"name\": \"copia\",\n  \"rows\": 1543,\n  \"fields\": [\n    {\n      \"column\": \"Data\",\n      \"properties\": {\n        \"dtype\": \"number\",\n        \"std\": 241,\n        \"min\": 0,\n        \"max\": 838,\n        \"num_unique_values\": 839,\n        \"samples\": [\n          211,\n          825,\n          78\n        ],\n        \"semantic_type\": \"\",\n        \"description\": \"\"\n      }\n    },\n    {\n      \"column\": \"Ano\",\n      \"properties\": {\n        \"dtype\": \"number\",\n        \"std\": 1.0003242016619343,\n        \"min\": -1.3157314426715077,\n        \"max\": 1.1600900403066619,\n        \"num_unique_values\": 3,\n        \"samples\": [\n          -1.3157314426715077,\n          -0.07782070118242297,\n          1.1600900403066619\n        ],\n        \"semantic_type\": \"\",\n        \"description\": \"\"\n      }\n    },\n    {\n      \"column\": \"M\\u00eas\",\n      \"properties\": {\n        \"dtype\": \"number\",\n        \"std\": 3,\n        \"min\": 0,\n        \"max\": 11,\n        \"num_unique_values\": 12,\n        \"samples\": [\n          9,\n          10,\n          4\n        ],\n        \"semantic_type\": \"\",\n        \"description\": \"\"\n      }\n    },\n    {\n      \"column\": \"CodCli\",\n      \"properties\": {\n        \"dtype\": \"number\",\n        \"std\": 1.0003242016619471,\n        \"min\": -1.373741211277967,\n        \"max\": 1.3851689719059939,\n        \"num_unique_values\": 45,\n        \"samples\": [\n          0.9053585052653051,\n          -0.7020065579810026,\n          0.089680711976134\n        ],\n        \"semantic_type\": \"\",\n        \"description\": \"\"\n      }\n    },\n    {\n      \"column\": \"Cliente\",\n      \"properties\": {\n        \"dtype\": \"number\",\n        \"std\": 12,\n        \"min\": 0,\n        \"max\": 44,\n        \"num_unique_values\": 45,\n        \"samples\": [\n          21,\n          7,\n          41\n        ],\n        \"semantic_type\": \"\",\n        \"description\": \"\"\n      }\n    },\n    {\n      \"column\": \"CodCom\",\n      \"properties\": {\n        \"dtype\": \"number\",\n        \"std\": 1.0003242016619414,\n        \"min\": -1.3647666619687135,\n        \"max\": 1.7812586746596952,\n        \"num_unique_values\": 12,\n        \"samples\": [\n          1.2092540679999846,\n          -1.0787643586388582,\n          -1.3647666619687135\n        ],\n        \"semantic_type\": \"\",\n        \"description\": \"\"\n      }\n    },\n    {\n      \"column\": \"Comercial\",\n      \"properties\": {\n        \"dtype\": \"number\",\n        \"std\": 3,\n        \"min\": 0,\n        \"max\": 11,\n        \"num_unique_values\": 12,\n        \"samples\": [\n          0,\n          8,\n          10\n        ],\n        \"semantic_type\": \"\",\n        \"description\": \"\"\n      }\n    },\n    {\n      \"column\": \"IDProduto\",\n      \"properties\": {\n        \"dtype\": \"number\",\n        \"std\": 1.0003242016619462,\n        \"min\": -1.7195768328885477,\n        \"max\": 1.7390028583741448,\n        \"num_unique_values\": 91,\n        \"samples\": [\n          -1.22000421081727,\n          -1.296861537289774,\n          -1.7195768328885477\n        ],\n        \"semantic_type\": \"\",\n        \"description\": \"\"\n      }\n    },\n    {\n      \"column\": \"Produto\",\n      \"properties\": {\n        \"dtype\": \"number\",\n        \"std\": 25,\n        \"min\": 0,\n        \"max\": 89,\n        \"num_unique_values\": 90,\n        \"samples\": [\n          82,\n          89,\n          8\n        ],\n        \"semantic_type\": \"\",\n        \"description\": \"\"\n      }\n    },\n    {\n      \"column\": \"Tipo\",\n      \"properties\": {\n        \"dtype\": \"number\",\n        \"std\": 1,\n        \"min\": 0,\n        \"max\": 3,\n        \"num_unique_values\": 4,\n        \"samples\": [\n          3,\n          2,\n          1\n        ],\n        \"semantic_type\": \"\",\n        \"description\": \"\"\n      }\n    },\n    {\n      \"column\": \"Subtipo\",\n      \"properties\": {\n        \"dtype\": \"number\",\n        \"std\": 2,\n        \"min\": 0,\n        \"max\": 12,\n        \"num_unique_values\": 13,\n        \"samples\": [\n          3,\n          1,\n          9\n        ],\n        \"semantic_type\": \"\",\n        \"description\": \"\"\n      }\n    },\n    {\n      \"column\": \"Qt\",\n      \"properties\": {\n        \"dtype\": \"number\",\n        \"std\": 1.0003242016619402,\n        \"min\": -1.5469428990010559,\n        \"max\": 1.5673505249519248,\n        \"num_unique_values\": 10,\n        \"samples\": [\n          -1.5469428990010559,\n          1.2213179222904826,\n          1.5673505249519248\n        ],\n        \"semantic_type\": \"\",\n        \"description\": \"\"\n      }\n    },\n    {\n      \"column\": \"PrCusto\",\n      \"properties\": {\n        \"dtype\": \"number\",\n        \"std\": 1.0003242016619462,\n        \"min\": -0.7210905520408415,\n        \"max\": 6.507941784948349,\n        \"num_unique_values\": 90,\n        \"samples\": [\n          0.1367835533774945,\n          -0.02790733887570337,\n          -0.4773766141678587\n        ],\n        \"semantic_type\": \"\",\n        \"description\": \"\"\n      }\n    },\n    {\n      \"column\": \"PrVenda\",\n      \"properties\": {\n        \"dtype\": \"number\",\n        \"std\": 441.94609120806814,\n        \"min\": 18.1052631578947,\n        \"max\": 2928.87368421053,\n        \"num_unique_values\": 71,\n        \"samples\": [\n          290.526315789474,\n          511.387726199843,\n          124.138840807763\n        ],\n        \"semantic_type\": \"\",\n        \"description\": \"\"\n      }\n    },\n    {\n      \"column\": \"Regi\\u00e3o\",\n      \"properties\": {\n        \"dtype\": \"number\",\n        \"std\": 0,\n        \"min\": 0,\n        \"max\": 2,\n        \"num_unique_values\": 3,\n        \"samples\": [\n          1,\n          0,\n          2\n        ],\n        \"semantic_type\": \"\",\n        \"description\": \"\"\n      }\n    },\n    {\n      \"column\": \"Meio de Pagamento\",\n      \"properties\": {\n        \"dtype\": \"number\",\n        \"std\": 1,\n        \"min\": 0,\n        \"max\": 4,\n        \"num_unique_values\": 5,\n        \"samples\": [\n          4,\n          1,\n          3\n        ],\n        \"semantic_type\": \"\",\n        \"description\": \"\"\n      }\n    }\n  ]\n}"
            }
          },
          "metadata": {},
          "execution_count": 160
        }
      ]
    },
    {
      "cell_type": "markdown",
      "source": [
        "# Análise Exploratória dos Dados"
      ],
      "metadata": {
        "id": "t3qNJRM-RXXo"
      }
    },
    {
      "cell_type": "code",
      "source": [
        "plt.figure(figsize=(10, 6))\n",
        "sns.histplot(vendas_df['PrVenda'], bins=30, kde=True)\n",
        "plt.title('Distribuição de PrVenda')\n",
        "plt.xlabel('Preço de Venda')\n",
        "plt.ylabel('Frequência')\n",
        "plt.show()"
      ],
      "metadata": {
        "colab": {
          "base_uri": "https://localhost:8080/",
          "height": 0
        },
        "id": "tI4u9P0SScON",
        "outputId": "6485e3ca-df1e-487e-fa1d-191237fd01e1"
      },
      "execution_count": 161,
      "outputs": [
        {
          "output_type": "display_data",
          "data": {
            "text/plain": [
              "<Figure size 1000x600 with 1 Axes>"
            ],
            "image/png": "[encoded data removed]"
          },
          "metadata": {}
        }
      ]
    },
    {
      "cell_type": "code",
      "source": [
        "plt.figure(figsize=(12, 8))\n",
        "sns.boxplot(x='Tipo', y='PrVenda', data=vendas_df)\n",
        "plt.title('Distribuição de Preços de Venda por Tipo de Produto')\n",
        "plt.xticks(rotation=45)\n",
        "plt.show()"
      ],
      "metadata": {
        "colab": {
          "base_uri": "https://localhost:8080/",
          "height": 0
        },
        "id": "F3Eyay3zS0bB",
        "outputId": "7fdc1850-f859-4be3-a2f1-4dc16b412e88"
      },
      "execution_count": 162,
      "outputs": [
        {
          "output_type": "display_data",
          "data": {
            "text/plain": [
              "<Figure size 1200x800 with 1 Axes>"
            ],
            "image/png": "[encoded data removed]"
          },
          "metadata": {}
        }
      ]
    },
    {
      "cell_type": "code",
      "source": [
        "plt.figure(figsize=(12, 8))\n",
        "sns.boxplot(x='Subtipo', y='PrVenda', data=vendas_df)\n",
        "plt.title('Distribuição de Preços de Venda por Subtipo de Produto')\n",
        "plt.xticks(rotation=45)\n",
        "plt.show()"
      ],
      "metadata": {
        "colab": {
          "base_uri": "https://localhost:8080/",
          "height": 0
        },
        "id": "M53GywYWTFRD",
        "outputId": "54a0cce3-7532-4c0b-d58a-a7fd13ea1a4b"
      },
      "execution_count": 163,
      "outputs": [
        {
          "output_type": "display_data",
          "data": {
            "text/plain": [
              "<Figure size 1200x800 with 1 Axes>"
            ],
            "image/png": "[encoded data removed]"
          },
          "metadata": {}
        }
      ]
    },
    {
      "cell_type": "code",
      "source": [
        "plt.figure(figsize=(10, 6))\n",
        "sns.boxplot(x='Região', y='PrVenda', data=vendas_df)\n",
        "plt.title('Distribuição de Preços de Venda por Região')\n",
        "plt.show()"
      ],
      "metadata": {
        "colab": {
          "base_uri": "https://localhost:8080/",
          "height": 0
        },
        "id": "75WI3ScnWCwb",
        "outputId": "6070ddc2-9fcd-4949-e910-029ef4a84156"
      },
      "execution_count": 164,
      "outputs": [
        {
          "output_type": "display_data",
          "data": {
            "text/plain": [
              "<Figure size 1000x600 with 1 Axes>"
            ],
            "image/png": "[encoded data removed]"
          },
          "metadata": {}
        }
      ]
    },
    {
      "cell_type": "code",
      "source": [
        "# Média de PrVenda por ano\n",
        "vendas_df.groupby('Ano')['PrVenda'].mean().plot(kind='bar', figsize=(10, 6), color='skyblue')\n",
        "plt.title('Média de Preços de Venda por Ano')\n",
        "plt.ylabel('Média de Preço de Venda')\n",
        "plt.show()"
      ],
      "metadata": {
        "colab": {
          "base_uri": "https://localhost:8080/",
          "height": 0
        },
        "id": "yWG3Lj_mTtJx",
        "outputId": "596bd4a2-369e-4ca8-880a-b133052fd3ea"
      },
      "execution_count": 165,
      "outputs": [
        {
          "output_type": "display_data",
          "data": {
            "text/plain": [
              "<Figure size 1000x600 with 1 Axes>"
            ],
            "image/png": "[encoded data removed]"
          },
          "metadata": {}
        }
      ]
    },
    {
      "cell_type": "code",
      "source": [
        "# Média de PrVenda por mês\n",
        "vendas_df.groupby('Mês')['PrVenda'].mean().plot(kind='bar', figsize=(10, 6), color='blue')\n",
        "plt.title('Média de Preços de Venda por Mês')\n",
        "plt.ylabel('Média de Preço de Venda')\n",
        "plt.show()"
      ],
      "metadata": {
        "colab": {
          "base_uri": "https://localhost:8080/",
          "height": 0
        },
        "id": "5xKCDKC1ULYw",
        "outputId": "be4a4b10-9f2a-4389-8cfb-35b4c42530ea"
      },
      "execution_count": 166,
      "outputs": [
        {
          "output_type": "display_data",
          "data": {
            "text/plain": [
              "<Figure size 1000x600 with 1 Axes>"
            ],
            "image/png": "[encoded data removed]"
          },
          "metadata": {}
        }
      ]
    },
    {
      "cell_type": "markdown",
      "source": [
        "# Tratamento de Dados"
      ],
      "metadata": {
        "id": "Hn2Lwj14W28d"
      }
    },
    {
      "cell_type": "code",
      "source": [
        "# Separar as variáveis independentes (X) e a variável dependente (y)\n",
        "X = copia.drop(columns=['PrVenda'])  # As colunas que não são 'PrVenda' serão as variáveis independentes\n",
        "y = copia['PrVenda']  # A coluna de Preço de Venda é o target"
      ],
      "metadata": {
        "id": "fNGqn2sPX9us"
      },
      "execution_count": 167,
      "outputs": []
    },
    {
      "cell_type": "code",
      "source": [
        "# Selecionar o top 5 das variáveis\n",
        "k = 5  # quero apenas 5 das 15 features\n",
        "select_k_best = SelectKBest(score_func=f_regression, k=k)\n",
        "\n",
        "# Treinar o modelo\n",
        "X_selecionado = select_k_best.fit_transform(X, y)\n",
        "\n",
        "# Receber a pontuação de cada variável\n",
        "pontuacoes_var = select_k_best.scores_\n",
        "\n",
        "# Criar um dataframe para as colunas selecionadas\n",
        "variaveis = X.columns\n",
        "pontuacoes_var_df = pd.DataFrame({'Feature': variaveis, 'Score': pontuacoes_var})\n",
        "\n",
        "# Ordenar pela pontuação\n",
        "best_features = feature_scores_df.sort_values(by='Score', ascending=False)\n",
        "print(best_features.head(k))\n",
        "\n",
        "X_selecionado = select_k_best.transform(X)\n"
      ],
      "metadata": {
        "id": "oGEriCCud0nR",
        "colab": {
          "base_uri": "https://localhost:8080/"
        },
        "outputId": "b46b3a51-4e86-4bb4-91f8-66c0b43f1296"
      },
      "execution_count": 168,
      "outputs": [
        {
          "output_type": "stream",
          "name": "stdout",
          "text": [
            "    Feature         Score\n",
            "12  PrCusto  59263.626541\n",
            "9      Tipo     17.759540\n",
            "10  Subtipo     12.851002\n",
            "8   Produto     12.240272\n",
            "1       Ano      5.767350\n"
          ]
        }
      ]
    },
    {
      "cell_type": "code",
      "source": [
        "X_train, X_test, y_train, y_test = train_test_split(X_selecionado, y, test_size=0.2, random_state=42)\n",
        "\n",
        "# Exibir tamanhos dos conjuntos de treino e teste\n",
        "print(f'Tamanho do conjunto de treino: {X_train.shape[0]}')\n",
        "print(f'Tamanho do conjunto de teste: {X_test.shape[0]}')"
      ],
      "metadata": {
        "colab": {
          "base_uri": "https://localhost:8080/"
        },
        "id": "0xChLYfcZGw-",
        "outputId": "5a7e8824-dfcb-44c4-d7f7-64abda962fef"
      },
      "execution_count": 169,
      "outputs": [
        {
          "output_type": "stream",
          "name": "stdout",
          "text": [
            "Tamanho do conjunto de treino: 1234\n",
            "Tamanho do conjunto de teste: 309\n"
          ]
        }
      ]
    },
    {
      "cell_type": "markdown",
      "source": [
        "# Machine Learning"
      ],
      "metadata": {
        "id": "-8PPAHzjZsoC"
      }
    },
    {
      "cell_type": "code",
      "source": [
        "# Instanciando e treinando o modelo de Regressão Linear\n",
        "lr_model = LinearRegression()\n",
        "lr_model.fit(X_train, y_train)\n",
        "\n",
        "# Fazendo previsões\n",
        "lr_pr = lr_model.predict(X_test)\n",
        "\n",
        "# Avaliando o desempenho do modelo (usando Mean Squared Error)\n",
        "lr_mse = mean_squared_error(y_test, lr_pr)\n",
        "print(f'Erro quadrático médio - Regressão Linear: {lr_mse}')"
      ],
      "metadata": {
        "colab": {
          "base_uri": "https://localhost:8080/"
        },
        "id": "Vl6ni-wrdHA6",
        "outputId": "25bdae9d-c642-41e2-c4f0-ba2c8e0dbdb7"
      },
      "execution_count": 170,
      "outputs": [
        {
          "output_type": "stream",
          "name": "stdout",
          "text": [
            "Erro quadrático médio - Regressão Linear: 4304.527089435679\n"
          ]
        }
      ]
    },
    {
      "cell_type": "code",
      "source": [
        "# Instanciando e treinando o modelo de Árvore de Decisão\n",
        "dt_model = DecisionTreeRegressor(random_state=42)\n",
        "dt_model.fit(X_train, y_train)\n",
        "\n",
        "# Fazendo previsões\n",
        "dt_pr = dt_model.predict(X_test)\n",
        "\n",
        "# Avaliando o desempenho do modelo\n",
        "dt_mse = mean_squared_error(y_test, dt_pr)\n",
        "print(f'Erro quadrático médio - Árvore de Decisão: {dt_mse}')"
      ],
      "metadata": {
        "colab": {
          "base_uri": "https://localhost:8080/"
        },
        "id": "GT-M6vzfZ0s4",
        "outputId": "1677a98b-79da-42c3-b740-9f79be244e14"
      },
      "execution_count": 171,
      "outputs": [
        {
          "output_type": "stream",
          "name": "stdout",
          "text": [
            "Erro quadrático médio - Árvore de Decisão: 1.4511977118570614e-26\n"
          ]
        }
      ]
    },
    {
      "cell_type": "code",
      "source": [
        "# Instanciando e treinando o modelo de Random Forest\n",
        "rf_model = RandomForestRegressor(random_state=42, n_estimators=100)\n",
        "rf_model.fit(X_train, y_train)\n",
        "\n",
        "# Fazendo previsões\n",
        "rf_pr = rf_model.predict(X_test)\n",
        "\n",
        "# Avaliando o desempenho do modelo\n",
        "rf_mse = mean_squared_error(y_test, rf_pr)\n",
        "print(f'Erro quadrático médio - Random Forest: {rf_mse}')"
      ],
      "metadata": {
        "id": "nYDXPcjXZ6nx",
        "colab": {
          "base_uri": "https://localhost:8080/"
        },
        "outputId": "d4fbff81-4994-412a-c686-1ebfd9369ceb"
      },
      "execution_count": 172,
      "outputs": [
        {
          "output_type": "stream",
          "name": "stdout",
          "text": [
            "Erro quadrático médio - Random Forest: 0.006357187343847651\n"
          ]
        }
      ]
    },
    {
      "cell_type": "markdown",
      "source": [
        "## Validação do Modelo"
      ],
      "metadata": {
        "id": "T7ToWUnPzucI"
      }
    },
    {
      "cell_type": "code",
      "source": [
        "def rmse_cv(modelo, X, y):\n",
        "    # Validação cruzada com 10 folds (cv=10), calculando RMSE para cada fold\n",
        "    rmse = np.sqrt(-cross_val_score(modelo, X, y, scoring=\"neg_mean_squared_error\", cv=10))\n",
        "    return rmse"
      ],
      "metadata": {
        "id": "umgLHwCtdNtm"
      },
      "execution_count": 173,
      "outputs": []
    },
    {
      "cell_type": "code",
      "source": [
        "lr_modelo = LinearRegression()\n",
        "dt_modelo = DecisionTreeRegressor(random_state=42)\n",
        "rf_modelo = RandomForestRegressor(random_state=42, n_estimators=100)"
      ],
      "metadata": {
        "id": "GlS6N0n63mxc"
      },
      "execution_count": 174,
      "outputs": []
    },
    {
      "cell_type": "code",
      "source": [
        "lr_rmse = rmse_cv(lr_modelo, X_selecionado, y)\n",
        "dt_rmse = rmse_cv(dt_modelo, X_selecionado, y)\n",
        "rf_rmse = rmse_cv(rf_modelo, X_selecionado, y)\n",
        "\n",
        "# Exibindo os resultados\n",
        "print(f\"RMSE médio - Regressão Linear: {lr_rmse.mean():.4f}, Desvio padrão: {lr_rmse.std():.4f}\")\n",
        "print(f\"RMSE médio - Árvore de Decisão: {dt_rmse.mean():.4f}, Desvio padrão: {dt_rmse.std():.4f}\")\n",
        "print(f\"RMSE médio - Random Forest: {rf_rmse.mean():.4f}, Desvio padrão: {rf_rmse.std():.4f}\")"
      ],
      "metadata": {
        "colab": {
          "base_uri": "https://localhost:8080/"
        },
        "id": "pNYD-0Ab3o8F",
        "outputId": "a1255e4c-ee70-47e9-e58e-1be1c5643fca"
      },
      "execution_count": 175,
      "outputs": [
        {
          "output_type": "stream",
          "name": "stdout",
          "text": [
            "RMSE médio - Regressão Linear: 70.4809, Desvio padrão: 7.2975\n",
            "RMSE médio - Árvore de Decisão: 0.0000, Desvio padrão: 0.0000\n",
            "RMSE médio - Random Forest: 0.0345, Desvio padrão: 0.0419\n"
          ]
        }
      ]
    },
    {
      "cell_type": "markdown",
      "source": [
        "## Teste"
      ],
      "metadata": {
        "id": "hs7PhOy356oV"
      }
    },
    {
      "cell_type": "code",
      "source": [
        "teste = copia.iloc[11].to_frame().transpose()\n",
        "teste"
      ],
      "metadata": {
        "colab": {
          "base_uri": "https://localhost:8080/",
          "height": 89
        },
        "id": "MfowTcu859Za",
        "outputId": "fcca94b1-aff8-450b-cefe-b2532bc69246"
      },
      "execution_count": 179,
      "outputs": [
        {
          "output_type": "execute_result",
          "data": {
            "text/plain": [
              "    Data       Ano  Mês   CodCli  Cliente    CodCom  Comercial  IDProduto  \\\n",
              "11   6.0 -1.315731  4.0 -0.84595     23.0 -1.364767       10.0  -0.912575   \n",
              "\n",
              "    Produto  Tipo  Subtipo        Qt   PrCusto  PrVenda  Região  \\\n",
              "11     35.0   1.0     10.0  0.875285 -0.427735    149.0     1.0   \n",
              "\n",
              "    Meio de Pagamento  \n",
              "11                2.0  "
            ],
            "text/html": [
              "\n",
              "  <div id=\"df-51feef4b-bc63-49a2-a8ea-82d48b4db6cf\" class=\"colab-df-container\">\n",
              "    <div>\n",
              "<style scoped>\n",
              "    .dataframe tbody tr th:only-of-type {\n",
              "        vertical-align: middle;\n",
              "    }\n",
              "\n",
              "    .dataframe tbody tr th {\n",
              "        vertical-align: top;\n",
              "    }\n",
              "\n",
              "    .dataframe thead th {\n",
              "        text-align: right;\n",
              "    }\n",
              "</style>\n",
              "<table border=\"1\" class=\"dataframe\">\n",
              "  <thead>\n",
              "    <tr style=\"text-align: right;\">\n",
              "      <th></th>\n",
              "      <th>Data</th>\n",
              "      <th>Ano</th>\n",
              "      <th>Mês</th>\n",
              "      <th>CodCli</th>\n",
              "      <th>Cliente</th>\n",
              "      <th>CodCom</th>\n",
              "      <th>Comercial</th>\n",
              "      <th>IDProduto</th>\n",
              "      <th>Produto</th>\n",
              "      <th>Tipo</th>\n",
              "      <th>Subtipo</th>\n",
              "      <th>Qt</th>\n",
              "      <th>PrCusto</th>\n",
              "      <th>PrVenda</th>\n",
              "      <th>Região</th>\n",
              "      <th>Meio de Pagamento</th>\n",
              "    </tr>\n",
              "  </thead>\n",
              "  <tbody>\n",
              "    <tr>\n",
              "      <th>11</th>\n",
              "      <td>6.0</td>\n",
              "      <td>-1.315731</td>\n",
              "      <td>4.0</td>\n",
              "      <td>-0.84595</td>\n",
              "      <td>23.0</td>\n",
              "      <td>-1.364767</td>\n",
              "      <td>10.0</td>\n",
              "      <td>-0.912575</td>\n",
              "      <td>35.0</td>\n",
              "      <td>1.0</td>\n",
              "      <td>10.0</td>\n",
              "      <td>0.875285</td>\n",
              "      <td>-0.427735</td>\n",
              "      <td>149.0</td>\n",
              "      <td>1.0</td>\n",
              "      <td>2.0</td>\n",
              "    </tr>\n",
              "  </tbody>\n",
              "</table>\n",
              "</div>\n",
              "    <div class=\"colab-df-buttons\">\n",
              "\n",
              "  <div class=\"colab-df-container\">\n",
              "    <button class=\"colab-df-convert\" onclick=\"convertToInteractive('df-51feef4b-bc63-49a2-a8ea-82d48b4db6cf')\"\n",
              "            title=\"Convert this dataframe to an interactive table.\"\n",
              "            style=\"display:none;\">\n",
              "\n",
              "  <svg xmlns=\"http://www.w3.org/2000/svg\" height=\"24px\" viewBox=\"0 -960 960 960\">\n",
              "    <path d=\"M120-120v-720h720v720H120Zm60-500h600v-160H180v160Zm220 220h160v-160H400v160Zm0 220h160v-160H400v160ZM180-400h160v-160H180v160Zm440 0h160v-160H620v160ZM180-180h160v-160H180v160Zm440 0h160v-160H620v160Z\"/>\n",
              "  </svg>\n",
              "    </button>\n",
              "\n",
              "  <style>\n",
              "    .colab-df-container {\n",
              "      display:flex;\n",
              "      gap: 12px;\n",
              "    }\n",
              "\n",
              "    .colab-df-convert {\n",
              "      background-color: #E8F0FE;\n",
              "      border: none;\n",
              "      border-radius: 50%;\n",
              "      cursor: pointer;\n",
              "      display: none;\n",
              "      fill: #1967D2;\n",
              "      height: 32px;\n",
              "      padding: 0 0 0 0;\n",
              "      width: 32px;\n",
              "    }\n",
              "\n",
              "    .colab-df-convert:hover {\n",
              "      background-color: #E2EBFA;\n",
              "      box-shadow: 0px 1px 2px rgba(60, 64, 67, 0.3), 0px 1px 3px 1px rgba(60, 64, 67, 0.15);\n",
              "      fill: #174EA6;\n",
              "    }\n",
              "\n",
              "    .colab-df-buttons div {\n",
              "      margin-bottom: 4px;\n",
              "    }\n",
              "\n",
              "    [theme=dark] .colab-df-convert {\n",
              "      background-color: #3B4455;\n",
              "      fill: #D2E3FC;\n",
              "    }\n",
              "\n",
              "    [theme=dark] .colab-df-convert:hover {\n",
              "      background-color: #434B5C;\n",
              "      box-shadow: 0px 1px 3px 1px rgba(0, 0, 0, 0.15);\n",
              "      filter: drop-shadow(0px 1px 2px rgba(0, 0, 0, 0.3));\n",
              "      fill: #FFFFFF;\n",
              "    }\n",
              "  </style>\n",
              "\n",
              "    <script>\n",
              "      const buttonEl =\n",
              "        document.querySelector('#df-51feef4b-bc63-49a2-a8ea-82d48b4db6cf button.colab-df-convert');\n",
              "      buttonEl.style.display =\n",
              "        google.colab.kernel.accessAllowed ? 'block' : 'none';\n",
              "\n",
              "      async function convertToInteractive(key) {\n",
              "        const element = document.querySelector('#df-51feef4b-bc63-49a2-a8ea-82d48b4db6cf');\n",
              "        const dataTable =\n",
              "          await google.colab.kernel.invokeFunction('convertToInteractive',\n",
              "                                                    [key], {});\n",
              "        if (!dataTable) return;\n",
              "\n",
              "        const docLinkHtml = 'Like what you see? Visit the ' +\n",
              "          '<a target=\"_blank\" href=https://colab.research.google.com/notebooks/data_table.ipynb>data table notebook</a>'\n",
              "          + ' to learn more about interactive tables.';\n",
              "        element.innerHTML = '';\n",
              "        dataTable['output_type'] = 'display_data';\n",
              "        await google.colab.output.renderOutput(dataTable, element);\n",
              "        const docLink = document.createElement('div');\n",
              "        docLink.innerHTML = docLinkHtml;\n",
              "        element.appendChild(docLink);\n",
              "      }\n",
              "    </script>\n",
              "  </div>\n",
              "\n",
              "\n",
              "  <div id=\"id_a181b6e7-5573-4c72-a933-5d7d0a4fd5a5\">\n",
              "    <style>\n",
              "      .colab-df-generate {\n",
              "        background-color: #E8F0FE;\n",
              "        border: none;\n",
              "        border-radius: 50%;\n",
              "        cursor: pointer;\n",
              "        display: none;\n",
              "        fill: #1967D2;\n",
              "        height: 32px;\n",
              "        padding: 0 0 0 0;\n",
              "        width: 32px;\n",
              "      }\n",
              "\n",
              "      .colab-df-generate:hover {\n",
              "        background-color: #E2EBFA;\n",
              "        box-shadow: 0px 1px 2px rgba(60, 64, 67, 0.3), 0px 1px 3px 1px rgba(60, 64, 67, 0.15);\n",
              "        fill: #174EA6;\n",
              "      }\n",
              "\n",
              "      [theme=dark] .colab-df-generate {\n",
              "        background-color: #3B4455;\n",
              "        fill: #D2E3FC;\n",
              "      }\n",
              "\n",
              "      [theme=dark] .colab-df-generate:hover {\n",
              "        background-color: #434B5C;\n",
              "        box-shadow: 0px 1px 3px 1px rgba(0, 0, 0, 0.15);\n",
              "        filter: drop-shadow(0px 1px 2px rgba(0, 0, 0, 0.3));\n",
              "        fill: #FFFFFF;\n",
              "      }\n",
              "    </style>\n",
              "    <button class=\"colab-df-generate\" onclick=\"generateWithVariable('teste')\"\n",
              "            title=\"Generate code using this dataframe.\"\n",
              "            style=\"display:none;\">\n",
              "\n",
              "  <svg xmlns=\"http://www.w3.org/2000/svg\" height=\"24px\"viewBox=\"0 0 24 24\"\n",
              "       width=\"24px\">\n",
              "    <path d=\"M7,19H8.4L18.45,9,17,7.55,7,17.6ZM5,21V16.75L18.45,3.32a2,2,0,0,1,2.83,0l1.4,1.43a1.91,1.91,0,0,1,.58,1.4,1.91,1.91,0,0,1-.58,1.4L9.25,21ZM18.45,9,17,7.55Zm-12,3A5.31,5.31,0,0,0,4.9,8.1,5.31,5.31,0,0,0,1,6.5,5.31,5.31,0,0,0,4.9,4.9,5.31,5.31,0,0,0,6.5,1,5.31,5.31,0,0,0,8.1,4.9,5.31,5.31,0,0,0,12,6.5,5.46,5.46,0,0,0,6.5,12Z\"/>\n",
              "  </svg>\n",
              "    </button>\n",
              "    <script>\n",
              "      (() => {\n",
              "      const buttonEl =\n",
              "        document.querySelector('#id_a181b6e7-5573-4c72-a933-5d7d0a4fd5a5 button.colab-df-generate');\n",
              "      buttonEl.style.display =\n",
              "        google.colab.kernel.accessAllowed ? 'block' : 'none';\n",
              "\n",
              "      buttonEl.onclick = () => {\n",
              "        google.colab.notebook.generateWithVariable('teste');\n",
              "      }\n",
              "      })();\n",
              "    </script>\n",
              "  </div>\n",
              "\n",
              "    </div>\n",
              "  </div>\n"
            ],
            "application/vnd.google.colaboratory.intrinsic+json": {
              "type": "dataframe",
              "variable_name": "teste",
              "summary": "{\n  \"name\": \"teste\",\n  \"rows\": 1,\n  \"fields\": [\n    {\n      \"column\": \"Data\",\n      \"properties\": {\n        \"dtype\": \"number\",\n        \"std\": null,\n        \"min\": 6.0,\n        \"max\": 6.0,\n        \"num_unique_values\": 1,\n        \"samples\": [\n          6.0\n        ],\n        \"semantic_type\": \"\",\n        \"description\": \"\"\n      }\n    },\n    {\n      \"column\": \"Ano\",\n      \"properties\": {\n        \"dtype\": \"number\",\n        \"std\": null,\n        \"min\": -1.3157314426715077,\n        \"max\": -1.3157314426715077,\n        \"num_unique_values\": 1,\n        \"samples\": [\n          -1.3157314426715077\n        ],\n        \"semantic_type\": \"\",\n        \"description\": \"\"\n      }\n    },\n    {\n      \"column\": \"M\\u00eas\",\n      \"properties\": {\n        \"dtype\": \"number\",\n        \"std\": null,\n        \"min\": 4.0,\n        \"max\": 4.0,\n        \"num_unique_values\": 1,\n        \"samples\": [\n          4.0\n        ],\n        \"semantic_type\": \"\",\n        \"description\": \"\"\n      }\n    },\n    {\n      \"column\": \"CodCli\",\n      \"properties\": {\n        \"dtype\": \"number\",\n        \"std\": null,\n        \"min\": -0.8459496979732093,\n        \"max\": -0.8459496979732093,\n        \"num_unique_values\": 1,\n        \"samples\": [\n          -0.8459496979732093\n        ],\n        \"semantic_type\": \"\",\n        \"description\": \"\"\n      }\n    },\n    {\n      \"column\": \"Cliente\",\n      \"properties\": {\n        \"dtype\": \"number\",\n        \"std\": null,\n        \"min\": 23.0,\n        \"max\": 23.0,\n        \"num_unique_values\": 1,\n        \"samples\": [\n          23.0\n        ],\n        \"semantic_type\": \"\",\n        \"description\": \"\"\n      }\n    },\n    {\n      \"column\": \"CodCom\",\n      \"properties\": {\n        \"dtype\": \"number\",\n        \"std\": null,\n        \"min\": -1.3647666619687135,\n        \"max\": -1.3647666619687135,\n        \"num_unique_values\": 1,\n        \"samples\": [\n          -1.3647666619687135\n        ],\n        \"semantic_type\": \"\",\n        \"description\": \"\"\n      }\n    },\n    {\n      \"column\": \"Comercial\",\n      \"properties\": {\n        \"dtype\": \"number\",\n        \"std\": null,\n        \"min\": 10.0,\n        \"max\": 10.0,\n        \"num_unique_values\": 1,\n        \"samples\": [\n          10.0\n        ],\n        \"semantic_type\": \"\",\n        \"description\": \"\"\n      }\n    },\n    {\n      \"column\": \"IDProduto\",\n      \"properties\": {\n        \"dtype\": \"number\",\n        \"std\": null,\n        \"min\": -0.9125749049272528,\n        \"max\": -0.9125749049272528,\n        \"num_unique_values\": 1,\n        \"samples\": [\n          -0.9125749049272528\n        ],\n        \"semantic_type\": \"\",\n        \"description\": \"\"\n      }\n    },\n    {\n      \"column\": \"Produto\",\n      \"properties\": {\n        \"dtype\": \"number\",\n        \"std\": null,\n        \"min\": 35.0,\n        \"max\": 35.0,\n        \"num_unique_values\": 1,\n        \"samples\": [\n          35.0\n        ],\n        \"semantic_type\": \"\",\n        \"description\": \"\"\n      }\n    },\n    {\n      \"column\": \"Tipo\",\n      \"properties\": {\n        \"dtype\": \"number\",\n        \"std\": null,\n        \"min\": 1.0,\n        \"max\": 1.0,\n        \"num_unique_values\": 1,\n        \"samples\": [\n          1.0\n        ],\n        \"semantic_type\": \"\",\n        \"description\": \"\"\n      }\n    },\n    {\n      \"column\": \"Subtipo\",\n      \"properties\": {\n        \"dtype\": \"number\",\n        \"std\": null,\n        \"min\": 10.0,\n        \"max\": 10.0,\n        \"num_unique_values\": 1,\n        \"samples\": [\n          10.0\n        ],\n        \"semantic_type\": \"\",\n        \"description\": \"\"\n      }\n    },\n    {\n      \"column\": \"Qt\",\n      \"properties\": {\n        \"dtype\": \"number\",\n        \"std\": null,\n        \"min\": 0.8752853196290403,\n        \"max\": 0.8752853196290403,\n        \"num_unique_values\": 1,\n        \"samples\": [\n          0.8752853196290403\n        ],\n        \"semantic_type\": \"\",\n        \"description\": \"\"\n      }\n    },\n    {\n      \"column\": \"PrCusto\",\n      \"properties\": {\n        \"dtype\": \"number\",\n        \"std\": null,\n        \"min\": -0.4277347493239826,\n        \"max\": -0.4277347493239826,\n        \"num_unique_values\": 1,\n        \"samples\": [\n          -0.4277347493239826\n        ],\n        \"semantic_type\": \"\",\n        \"description\": \"\"\n      }\n    },\n    {\n      \"column\": \"PrVenda\",\n      \"properties\": {\n        \"dtype\": \"number\",\n        \"std\": null,\n        \"min\": 149.0,\n        \"max\": 149.0,\n        \"num_unique_values\": 1,\n        \"samples\": [\n          149.0\n        ],\n        \"semantic_type\": \"\",\n        \"description\": \"\"\n      }\n    },\n    {\n      \"column\": \"Regi\\u00e3o\",\n      \"properties\": {\n        \"dtype\": \"number\",\n        \"std\": null,\n        \"min\": 1.0,\n        \"max\": 1.0,\n        \"num_unique_values\": 1,\n        \"samples\": [\n          1.0\n        ],\n        \"semantic_type\": \"\",\n        \"description\": \"\"\n      }\n    },\n    {\n      \"column\": \"Meio de Pagamento\",\n      \"properties\": {\n        \"dtype\": \"number\",\n        \"std\": null,\n        \"min\": 2.0,\n        \"max\": 2.0,\n        \"num_unique_values\": 1,\n        \"samples\": [\n          2.0\n        ],\n        \"semantic_type\": \"\",\n        \"description\": \"\"\n      }\n    }\n  ]\n}"
            }
          },
          "metadata": {},
          "execution_count": 179
        }
      ]
    },
    {
      "cell_type": "code",
      "source": [
        "teste_ = teste.copy()\n",
        "teste_ = teste_.drop(columns=['PrVenda'])\n",
        "teste_ = select_k_best.transform(teste_)\n",
        "print(teste_)"
      ],
      "metadata": {
        "colab": {
          "base_uri": "https://localhost:8080/"
        },
        "id": "BRzNRd2c6K3e",
        "outputId": "b943c9ea-e78a-43e0-ce04-580b98a89c02"
      },
      "execution_count": 180,
      "outputs": [
        {
          "output_type": "stream",
          "name": "stdout",
          "text": [
            "[[-1.31573144 35.          1.         10.         -0.42773475]]\n"
          ]
        }
      ]
    },
    {
      "cell_type": "code",
      "source": [
        "predicao = dt_model.predict(teste_)\n",
        "\n",
        "# Exibindo a previsão\n",
        "print(f'A previsão do modelo para os dados de entrada é: {predicao[0]}')"
      ],
      "metadata": {
        "colab": {
          "base_uri": "https://localhost:8080/"
        },
        "id": "_JWKPiIq7wlI",
        "outputId": "b6880dcf-5ca1-4143-fd7f-47df8e2a84ad"
      },
      "execution_count": 181,
      "outputs": [
        {
          "output_type": "stream",
          "name": "stdout",
          "text": [
            "A previsão do modelo para os dados de entrada é: 149.0\n"
          ]
        }
      ]
    },
    {
      "cell_type": "markdown",
      "source": [
        "# Salvar o modelo para o Team DEV"
      ],
      "metadata": {
        "id": "kag52zdR_sUi"
      }
    },
    {
      "cell_type": "code",
      "source": [
        "# Salvar o modelo\n",
        "import joblib\n",
        "\n",
        "joblib.dump(dt_model, 'decisionTreeModel.pkl')"
      ],
      "metadata": {
        "colab": {
          "base_uri": "https://localhost:8080/"
        },
        "id": "H18R5Nay_uNM",
        "outputId": "8f30bc5e-9e94-4a29-a8a4-bd2538628b1f"
      },
      "execution_count": 184,
      "outputs": [
        {
          "output_type": "execute_result",
          "data": {
            "text/plain": [
              "['decisionTreeModel.pkl']"
            ]
          },
          "metadata": {},
          "execution_count": 184
        }
      ]
    },
    {
      "cell_type": "code",
      "source": [],
      "metadata": {
        "id": "8gR0jTPaALRI"
      },
      "execution_count": null,
      "outputs": []
    }
  ]
}